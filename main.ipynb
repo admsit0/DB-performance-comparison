{
 "cells": [
  {
   "cell_type": "markdown",
   "metadata": {},
   "source": [
    "Adam Maltoni\n",
    "\n",
    "Ibón de Mingo\n",
    "\n",
    "BBDD - P1 - 3ero CEIDD"
   ]
  },
  {
   "cell_type": "markdown",
   "metadata": {},
   "source": [
    "### **General imports and connection params**"
   ]
  },
  {
   "cell_type": "code",
   "execution_count": 1,
   "metadata": {},
   "outputs": [],
   "source": [
    "from modules.util import get_connection\n",
    "from modules.connection import *"
   ]
  },
  {
   "cell_type": "markdown",
   "metadata": {},
   "source": [
    "## **Parte 1: Generar datos**"
   ]
  },
  {
   "cell_type": "markdown",
   "metadata": {},
   "source": [
    "### **1.1: Definición de providers**"
   ]
  },
  {
   "cell_type": "code",
   "execution_count": 2,
   "metadata": {},
   "outputs": [],
   "source": [
    "from modules.data_generation import MasterProvider"
   ]
  },
  {
   "cell_type": "markdown",
   "metadata": {},
   "source": [
    "### **1.2: Generación de datos y guardado en archivos**"
   ]
  },
  {
   "cell_type": "code",
   "execution_count": 3,
   "metadata": {},
   "outputs": [
    {
     "name": "stderr",
     "output_type": "stream",
     "text": [
      "100%|██████████| 1000/1000 [00:00<00:00, 11495.59it/s]\n",
      "100%|██████████| 2000/2000 [00:00<00:00, 19546.57it/s]\n"
     ]
    },
    {
     "name": "stdout",
     "output_type": "stream",
     "text": [
      "Number of (users, vehicles): (1000, 2000)\n",
      "{'nombre': 'Albano Grande Palacios', 'dni': '48029941F', 'email': 'albanograndepalacios3696293@yahoo.com', 'telefono_movil': '+34826616303', 'telefono_fijo': '911170903', 'direccion': 'Pasadizo Ambrosio Lledó 86', 'ciudad': 'Felix', 'codigo_postal': '04728', 'provincia': 'Almería'}\n",
      "{'matricula': '4603-JPN', 'numero_bastidor': '412RZNWA7Y8UJPEWJ', 'anno': 2017, 'marca': 'Kia', 'modelo': 'Sorento', 'categoria': 'sedán', 'dni_usuario': '95526771C'}\n"
     ]
    }
   ],
   "source": [
    "from modules.util import create_json, create_csv, merge_data\n",
    "\n",
    "flag = True\n",
    "if flag:\n",
    "    prov = MasterProvider()\n",
    "    us, veh = prov.generate(1000, 2000)\n",
    "    print(f\"Number of (users, vehicles): {len(us), len(veh)}\")\n",
    "    print(us[0])\n",
    "    print(veh[0])\n",
    "\n",
    "    mix = merge_data(us, veh)\n",
    "    create_csv(['out/csv/users.csv', 'out/csv/vehicles.csv'], [us, veh])\n",
    "    create_json(['out/json/users.json','out/json/vehicles.json','out/json/mix.json'] , [us, veh, mix])"
   ]
  },
  {
   "cell_type": "markdown",
   "metadata": {},
   "source": [
    "## **Parte 2: Tratamiento de datos pre-testing**"
   ]
  },
  {
   "cell_type": "markdown",
   "metadata": {},
   "source": [
    "### **2.1: Definición esquema de datos, creación tablas**"
   ]
  },
  {
   "cell_type": "code",
   "execution_count": 4,
   "metadata": {},
   "outputs": [
    {
     "name": "stdout",
     "output_type": "stream",
     "text": [
      "Tables created in psql database\n",
      "Tables created in sqlite database\n",
      "Tables created in duck database\n"
     ]
    },
    {
     "data": {
      "text/plain": [
       "'No es necesaria schema definition en MongoDB ya que presenta schema on-read'"
      ]
     },
     "execution_count": 4,
     "metadata": {},
     "output_type": "execute_result"
    }
   ],
   "source": [
    "from modules.data_schema import create_tables\n",
    "\n",
    "flag = True\n",
    "if flag:\n",
    "    for db, params in zip(['psql','sqlite', 'duck'], [PSQL_PARAMS, SQLITE_PARAMS, DUCK_PARAMS]):\n",
    "        \n",
    "        conn = get_connection(db, params)\n",
    "        \n",
    "        try:\n",
    "            create_tables(conn, db_type=db, commit=True)\n",
    "            print(f\"Tables created in {db} database\")\n",
    "        except Exception as e:\n",
    "            print(f\"Error creating tables in {db} database: {e}\")\n",
    "        finally:\n",
    "            conn.close()\n",
    "\n",
    "\"\"\"No es necesaria schema definition en MongoDB ya que presenta schema on-read\"\"\""
   ]
  },
  {
   "cell_type": "markdown",
   "metadata": {},
   "source": [
    "### **2.2: Operaciones de delete, insert, select y update sobre DB's**"
   ]
  },
  {
   "cell_type": "code",
   "execution_count": 5,
   "metadata": {},
   "outputs": [],
   "source": [
    "from modules.db_operations import delete_data, insert_data, select_all_records, run_custom_select, update_record"
   ]
  },
  {
   "cell_type": "markdown",
   "metadata": {},
   "source": [
    "#### **Delete**"
   ]
  },
  {
   "cell_type": "code",
   "execution_count": 6,
   "metadata": {},
   "outputs": [
    {
     "name": "stderr",
     "output_type": "stream",
     "text": [
      "Deleting tables from db psql: 2it [00:00, 1293.94it/s]\n",
      "Deleting tables from db sqlite: 2it [00:00, 660.88it/s]\n",
      "Deleting collections from db mongo: 100%|██████████| 3/3 [00:00<00:00, 81.70it/s]\n",
      "Deleting tables from db duck: 2it [00:00, 1717.92it/s]\n"
     ]
    }
   ],
   "source": [
    "flag = True\n",
    "if flag:\n",
    "    delete_data('psql', PSQL_PARAMS, ['usuarios', 'vehiculos'])\n",
    "    delete_data('sqlite', SQLITE_PARAMS, ['usuarios', 'vehiculos'])\n",
    "    delete_data('mongo', MONGO_PARAMS, ['usuarios', 'vehiculos', 'mix'])\n",
    "    delete_data('duck', DUCK_PARAMS, ['usuarios', 'vehiculos'])"
   ]
  },
  {
   "cell_type": "markdown",
   "metadata": {},
   "source": [
    "#### **Insert**"
   ]
  },
  {
   "cell_type": "code",
   "execution_count": 7,
   "metadata": {},
   "outputs": [
    {
     "name": "stderr",
     "output_type": "stream",
     "text": [
      "Inserting rows in chunks of 1000 in db psql: 100%|██████████| 1/1 [00:00<00:00, 12.08it/s]\n",
      "Inserting rows in chunks of 1000 in db psql: 100%|██████████| 2/2 [00:00<00:00, 11.81it/s]\n",
      "Inserting rows in chunks of 1000 in db sqlite: 100%|██████████| 1/1 [00:00<00:00, 142.06it/s]\n",
      "Inserting rows in chunks of 1000 in db sqlite: 100%|██████████| 2/2 [00:00<00:00, 351.11it/s]\n",
      "Inserting in chunks of 1000 in MongoDB: 100%|██████████| 1/1 [00:00<00:00, 63.87it/s]\n",
      "Inserting in chunks of 1000 in MongoDB: 100%|██████████| 2/2 [00:00<00:00, 76.34it/s]\n",
      "Inserting in chunks of 1000 in MongoDB: 100%|██████████| 1/1 [00:00<00:00, 31.71it/s]\n",
      "Inserting rows in chunks of 10000 in db duck: 100%|██████████| 1/1 [00:01<00:00,  1.22s/it]\n",
      "Inserting rows in chunks of 10000 in db duck: 100%|██████████| 1/1 [00:02<00:00,  2.71s/it]\n"
     ]
    }
   ],
   "source": [
    "flag = True\n",
    "if flag:\n",
    "    insert_data('psql', PSQL_PARAMS, 'out/csv/users.csv', 'usuarios')\n",
    "    insert_data('psql', PSQL_PARAMS, 'out/csv/vehicles.csv', 'vehiculos')\n",
    "\n",
    "    insert_data('sqlite', SQLITE_PARAMS, 'out/csv/users.csv', 'usuarios')\n",
    "    insert_data('sqlite', SQLITE_PARAMS, 'out/csv/vehicles.csv', 'vehiculos')\n",
    "\n",
    "    insert_data('mongo', MONGO_PARAMS, 'out/json/users.json', 'usuarios')\n",
    "    insert_data('mongo', MONGO_PARAMS, 'out/json/vehicles.json', 'vehiculos')\n",
    "    insert_data('mongo', MONGO_PARAMS, 'out/json/mix.json', 'mix')\n",
    "\n",
    "    insert_data('duck', DUCK_PARAMS, 'out/json/users.json', 'usuarios', batch_size=10000)\n",
    "    insert_data('duck', DUCK_PARAMS, 'out/json/vehicles.json', 'vehiculos', batch_size=10000) # duckdb is slow!"
   ]
  },
  {
   "cell_type": "markdown",
   "metadata": {},
   "source": [
    "#### **Select**"
   ]
  },
  {
   "cell_type": "code",
   "execution_count": 8,
   "metadata": {},
   "outputs": [
    {
     "name": "stdout",
     "output_type": "stream",
     "text": [
      "Comprobación primera persona de cada select: \n",
      "('Albano Grande Palacios', '48029941F', 'albanograndepalacios3696293@yahoo.com', '34826616303', '911170903', 'Pasadizo Ambrosio Lledó 86', 'Felix', '04728', 'Almería')\n",
      "('Albano Grande Palacios', '48029941F', 'albanograndepalacios3696293@yahoo.com', '34826616303', '911170903', 'Pasadizo Ambrosio Lledó 86', 'Felix', '04728', 'Almería')\n",
      "{'nombre': 'Albano Grande Palacios', 'dni': '48029941F', 'email': 'albanograndepalacios3696293@yahoo.com', 'telefono_movil': '+34826616303', 'telefono_fijo': '911170903', 'direccion': 'Pasadizo Ambrosio Lledó 86', 'ciudad': 'Felix', 'codigo_postal': '04728', 'provincia': 'Almería'}\n",
      "('Albano Grande Palacios', '48029941F', 'albanograndepalacios3696293@yahoo.com', '+34826616303', '911170903', 'Pasadizo Ambrosio Lledó 86', 'Felix', '04728', 'Almería')\n"
     ]
    }
   ],
   "source": [
    "flag = True\n",
    "if flag:\n",
    "    _a = select_all_records('psql', PSQL_PARAMS, 'usuarios')\n",
    "    select_all_records('psql', PSQL_PARAMS, 'vehiculos')\n",
    "\n",
    "    _b = select_all_records('sqlite', SQLITE_PARAMS, 'usuarios')\n",
    "    select_all_records('sqlite', SQLITE_PARAMS, 'vehiculos')\n",
    "\n",
    "    _c = select_all_records('mongo', MONGO_PARAMS, 'usuarios')\n",
    "    select_all_records('mongo', MONGO_PARAMS, 'vehiculos')\n",
    "    select_all_records('mongo', MONGO_PARAMS, 'mix')\n",
    "\n",
    "    _d = select_all_records('duck', DUCK_PARAMS, 'usuarios')\n",
    "    select_all_records('duck', DUCK_PARAMS, 'vehiculos')\n",
    "\n",
    "    if _a and _b and _c and _d:\n",
    "        print(f\"Comprobación primera persona de cada select: \\n{_a[0]}\\n{_b[0]}\\n{_c[0]}\\n{_d[0]}\")\n",
    "    else:\n",
    "        print(\"No se encontraron resultados en una o más consultas.\")"
   ]
  },
  {
   "cell_type": "code",
   "execution_count": 9,
   "metadata": {},
   "outputs": [
    {
     "name": "stdout",
     "output_type": "stream",
     "text": [
      "Comprobación primera persona de Madrid: \n",
      "('Adolfo Huertas Prada', '71511586D', 'adolfohuertasprada1997933@hotmail.com', '34886231385', '985005645', 'Pasadizo Régulo Ugarte 27 Apt. 25 ', 'Getafe', '28906', 'Madrid')\n",
      "('Adolfo Huertas Prada', '71511586D', 'adolfohuertasprada1997933@hotmail.com', '34886231385', '985005645', 'Pasadizo Régulo Ugarte 27 Apt. 25 ', 'Getafe', '28906', 'Madrid')\n",
      "{'nombre': 'Adolfo Huertas Prada', 'dni': '71511586D', 'email': 'adolfohuertasprada1997933@hotmail.com', 'telefono_movil': '+34886231385', 'telefono_fijo': '985005645', 'direccion': 'Pasadizo Régulo Ugarte 27 Apt. 25 ', 'ciudad': 'Getafe', 'codigo_postal': '28906', 'provincia': 'Madrid'}\n",
      "('Adolfo Huertas Prada', '71511586D', 'adolfohuertasprada1997933@hotmail.com', '+34886231385', '985005645', 'Pasadizo Régulo Ugarte 27 Apt. 25 ', 'Getafe', '28906', 'Madrid')\n"
     ]
    }
   ],
   "source": [
    "flag = True\n",
    "if flag:\n",
    "    _a = run_custom_select('psql', \"SELECT * FROM usuarios WHERE provincia = 'Madrid'\", params=PSQL_PARAMS)\n",
    "    _b = run_custom_select('sqlite', \"SELECT * FROM usuarios WHERE provincia = 'Madrid'\", params=SQLITE_PARAMS)\n",
    "    _c = run_custom_select('mongo', {'provincia': \"Madrid\"}, table='usuarios', params=MONGO_PARAMS)\n",
    "    _d = run_custom_select('duck', \"SELECT * FROM usuarios WHERE provincia = 'Madrid'\", params=DUCK_PARAMS)\n",
    "\n",
    "    if _a and _b and _c and _d:\n",
    "        print(f\"Comprobación primera persona de Madrid: \\n{_a[0]}\\n{_b[0]}\\n{_c[0]}\\n{_d[0]}\")\n",
    "    else:\n",
    "        print(\"No se encontraron resultados en una o más consultas.\")"
   ]
  },
  {
   "cell_type": "markdown",
   "metadata": {},
   "source": [
    "#### **Update**"
   ]
  },
  {
   "cell_type": "code",
   "execution_count": 10,
   "metadata": {},
   "outputs": [
    {
     "name": "stdout",
     "output_type": "stream",
     "text": [
      "Comprobación primera persona de Madrid: \n",
      "('Adamsito', '76212890K', 'marcelovalero-losada2715891@gmail.com', '34845285805', '942369099', 'Glorieta de Teodoro Navarro 71', 'Corpa', '28811', 'Madrid')\n",
      "('Adamsito', '71511586D', 'adolfohuertasprada1997933@hotmail.com', '34886231385', '985005645', 'Pasadizo Régulo Ugarte 27 Apt. 25 ', 'Getafe', '28906', 'Madrid')\n",
      "{'nombre': 'Adamsito', 'dni': '71511586D', 'email': 'adolfohuertasprada1997933@hotmail.com', 'telefono_movil': '+34886231385', 'telefono_fijo': '985005645', 'direccion': 'Pasadizo Régulo Ugarte 27 Apt. 25 ', 'ciudad': 'Getafe', 'codigo_postal': '28906', 'provincia': 'Madrid'}\n",
      "('Adamsito', '71511586D', 'adolfohuertasprada1997933@hotmail.com', '+34886231385', '985005645', 'Pasadizo Régulo Ugarte 27 Apt. 25 ', 'Getafe', '28906', 'Madrid')\n"
     ]
    }
   ],
   "source": [
    "flag = True\n",
    "if flag:  # Everyone from Madrid will now be named Adamsito\n",
    "    update_record('psql', PSQL_PARAMS, 'usuarios', 'nombre', 'Adamsito', 'provincia = \\'Madrid\\'')\n",
    "    update_record('sqlite', SQLITE_PARAMS, 'usuarios', 'nombre', 'Adamsito', 'provincia = \\'Madrid\\'')\n",
    "    update_record('mongo', MONGO_PARAMS, 'usuarios', 'nombre', 'Adamsito', {'provincia': 'Madrid'})\n",
    "    update_record('duck', DUCK_PARAMS, 'usuarios', 'nombre', 'Adamsito', \"provincia = 'Madrid'\")\n",
    "\n",
    "    _a = run_custom_select('psql', \"SELECT * FROM usuarios WHERE provincia = 'Madrid'\", params=PSQL_PARAMS)\n",
    "    _b = run_custom_select('sqlite', \"SELECT * FROM usuarios WHERE provincia = 'Madrid'\", params=SQLITE_PARAMS)\n",
    "    _c = run_custom_select('mongo', {'provincia': \"Madrid\"}, table='usuarios', params=MONGO_PARAMS)\n",
    "    _d = run_custom_select('duck', \"SELECT * FROM usuarios WHERE provincia = 'Madrid'\", params=DUCK_PARAMS)\n",
    "\n",
    "    if _a and _b and _c and _d:\n",
    "        print(f\"Comprobación primera persona de Madrid: \\n{_a[0]}\\n{_b[0]}\\n{_c[0]}\\n{_d[0]}\")\n",
    "    else:\n",
    "        print(\"No se encontraron resultados en una o más consultas, o el update ha fallado.\")"
   ]
  },
  {
   "cell_type": "markdown",
   "metadata": {},
   "source": [
    "## **Parte 3: Análisis de rendimientos**"
   ]
  },
  {
   "cell_type": "code",
   "execution_count": 11,
   "metadata": {},
   "outputs": [
    {
     "name": "stdout",
     "output_type": "stream",
     "text": [
      "\n",
      "\n",
      "Running tests with data size: 1000\n",
      "----------------------------------------\n",
      "Generating users...\n"
     ]
    },
    {
     "name": "stderr",
     "output_type": "stream",
     "text": [
      "100%|██████████| 1000/1000 [00:00<00:00, 12195.08it/s]\n",
      "100%|██████████| 1000/1000 [00:00<00:00, 11543.46it/s]\n"
     ]
    },
    {
     "name": "stdout",
     "output_type": "stream",
     "text": [
      "<lambda> in data generation: \n",
      "\tReal time: 0.08916 seconds\n",
      "\tCPU time: 0.08855 seconds\n",
      "\n",
      "\n"
     ]
    },
    {
     "name": "stderr",
     "output_type": "stream",
     "text": [
      "100%|██████████| 1000/1000 [00:00<00:00, 12785.33it/s]\n",
      "100%|██████████| 1000/1000 [00:00<00:00, 13388.31it/s]\n",
      "100%|██████████| 1000/1000 [00:00<00:00, 13091.29it/s]\n",
      "100%|██████████| 1000/1000 [00:00<00:00, 13189.34it/s]\n",
      "100%|██████████| 1000/1000 [00:00<00:00, 10788.21it/s]"
     ]
    },
    {
     "name": "stdout",
     "output_type": "stream",
     "text": [
      "<lambda> in data generation:  --> Average time in 5 is 0.08 seconds\n"
     ]
    },
    {
     "name": "stderr",
     "output_type": "stream",
     "text": [
      "\n"
     ]
    },
    {
     "name": "stdout",
     "output_type": "stream",
     "text": [
      "Max memory usage: 0.25 GB\n",
      "Memory used by data: 0.01 MB\n",
      "Generating vehicles...\n"
     ]
    },
    {
     "name": "stderr",
     "output_type": "stream",
     "text": [
      "100%|██████████| 2000/2000 [00:00<00:00, 13816.12it/s]\n",
      "100%|██████████| 2000/2000 [00:00<00:00, 18378.58it/s]\n"
     ]
    },
    {
     "name": "stdout",
     "output_type": "stream",
     "text": [
      "<lambda> in data generation: \n",
      "\tReal time: 0.11085 seconds\n",
      "\tCPU time: 0.11079 seconds\n",
      "\n",
      "\n"
     ]
    },
    {
     "name": "stderr",
     "output_type": "stream",
     "text": [
      "100%|██████████| 2000/2000 [00:00<00:00, 19278.31it/s]\n",
      "100%|██████████| 2000/2000 [00:00<00:00, 18411.57it/s]\n",
      "100%|██████████| 2000/2000 [00:00<00:00, 18541.23it/s]\n",
      "100%|██████████| 2000/2000 [00:00<00:00, 17966.84it/s]\n",
      "100%|██████████| 2000/2000 [00:00<00:00, 16726.33it/s]"
     ]
    },
    {
     "name": "stdout",
     "output_type": "stream",
     "text": [
      "<lambda> in data generation:  --> Average time in 5 is 0.11 seconds\n"
     ]
    },
    {
     "name": "stderr",
     "output_type": "stream",
     "text": [
      "\n"
     ]
    },
    {
     "name": "stdout",
     "output_type": "stream",
     "text": [
      "Max memory usage: 0.25 GB\n",
      "Memory used by data: 0.02 MB\n",
      "Merging users and vehicles...\n",
      "<lambda> in data generation: \n",
      "\tReal time: 0.00362 seconds\n",
      "\tCPU time: 0.00359 seconds\n",
      "\n",
      "\n",
      "<lambda> in data generation:  --> Average time in 5 is 0.00 seconds\n",
      "Max memory usage: 0.25 GB\n",
      "Memory used by data: 0.01 MB\n",
      "Running tests in: Merging data\n",
      "merge_data in data generation: \n",
      "\tReal time: 0.00408 seconds\n",
      "\tCPU time: 0.00406 seconds\n",
      "\n",
      "\n",
      "merge_data in data generation:  --> Average time in 5 is 0.00 seconds\n",
      "----------------------------------------\n",
      "Running tests in: Creating CSVs\n",
      "create_csv in data generation: \n",
      "\tReal time: 0.01330 seconds\n",
      "\tCPU time: 0.01323 seconds\n",
      "\n",
      "\n",
      "create_csv in data generation:  --> Average time in 5 is 0.01 seconds\n",
      "----------------------------------------\n",
      "Running tests in: Creating JSONs\n",
      "create_json in data generation: \n",
      "\tReal time: 0.05240 seconds\n",
      "\tCPU time: 0.05230 seconds\n",
      "\n",
      "\n",
      "create_json in data generation:  --> Average time in 5 is 0.05 seconds\n",
      "----------------------------------------\n",
      "\n",
      "\n",
      "Running tests with data size: 2000\n",
      "----------------------------------------\n",
      "Generating users...\n"
     ]
    },
    {
     "name": "stderr",
     "output_type": "stream",
     "text": [
      "100%|██████████| 2000/2000 [00:00<00:00, 12723.47it/s]\n",
      "100%|██████████| 2000/2000 [00:00<00:00, 13158.42it/s]\n"
     ]
    },
    {
     "name": "stdout",
     "output_type": "stream",
     "text": [
      "<lambda> in data generation: \n",
      "\tReal time: 0.15417 seconds\n",
      "\tCPU time: 0.15371 seconds\n",
      "\n",
      "\n"
     ]
    },
    {
     "name": "stderr",
     "output_type": "stream",
     "text": [
      "100%|██████████| 2000/2000 [00:00<00:00, 9993.99it/s] \n",
      "100%|██████████| 2000/2000 [00:00<00:00, 10856.30it/s]\n",
      "100%|██████████| 2000/2000 [00:00<00:00, 11013.88it/s]\n",
      "100%|██████████| 2000/2000 [00:00<00:00, 13098.44it/s]\n",
      "100%|██████████| 2000/2000 [00:00<00:00, 12123.54it/s]"
     ]
    },
    {
     "name": "stdout",
     "output_type": "stream",
     "text": [
      "<lambda> in data generation:  --> Average time in 5 is 0.18 seconds\n"
     ]
    },
    {
     "name": "stderr",
     "output_type": "stream",
     "text": [
      "\n"
     ]
    },
    {
     "name": "stdout",
     "output_type": "stream",
     "text": [
      "Max memory usage: 0.27 GB\n",
      "Memory used by data: 0.02 MB\n",
      "Generating vehicles...\n"
     ]
    },
    {
     "name": "stderr",
     "output_type": "stream",
     "text": [
      "100%|██████████| 4000/4000 [00:00<00:00, 15702.24it/s]\n",
      "100%|██████████| 4000/4000 [00:00<00:00, 19131.43it/s]\n"
     ]
    },
    {
     "name": "stdout",
     "output_type": "stream",
     "text": [
      "<lambda> in data generation: \n",
      "\tReal time: 0.21206 seconds\n",
      "\tCPU time: 0.21171 seconds\n",
      "\n",
      "\n"
     ]
    },
    {
     "name": "stderr",
     "output_type": "stream",
     "text": [
      "100%|██████████| 4000/4000 [00:00<00:00, 17390.60it/s]\n",
      "100%|██████████| 4000/4000 [00:00<00:00, 15520.23it/s]\n",
      "100%|██████████| 4000/4000 [00:00<00:00, 15302.90it/s]\n",
      "100%|██████████| 4000/4000 [00:00<00:00, 13055.80it/s]\n",
      "100%|██████████| 4000/4000 [00:00<00:00, 17258.42it/s]"
     ]
    },
    {
     "name": "stdout",
     "output_type": "stream",
     "text": [
      "<lambda> in data generation:  --> Average time in 5 is 0.26 seconds\n"
     ]
    },
    {
     "name": "stderr",
     "output_type": "stream",
     "text": [
      "\n"
     ]
    },
    {
     "name": "stdout",
     "output_type": "stream",
     "text": [
      "Max memory usage: 0.27 GB\n",
      "Memory used by data: 0.03 MB\n",
      "Merging users and vehicles...\n",
      "<lambda> in data generation: \n",
      "\tReal time: 0.00703 seconds\n",
      "\tCPU time: 0.00700 seconds\n",
      "\n",
      "\n",
      "<lambda> in data generation:  --> Average time in 5 is 0.01 seconds\n",
      "Max memory usage: 0.28 GB\n",
      "Memory used by data: 0.01 MB\n",
      "Running tests in: Merging data\n",
      "merge_data in data generation: \n",
      "\tReal time: 0.01076 seconds\n",
      "\tCPU time: 0.01071 seconds\n",
      "\n",
      "\n",
      "merge_data in data generation:  --> Average time in 5 is 0.01 seconds\n",
      "----------------------------------------\n",
      "Running tests in: Creating CSVs\n",
      "create_csv in data generation: \n",
      "\tReal time: 0.02694 seconds\n",
      "\tCPU time: 0.02715 seconds\n",
      "\n",
      "\n",
      "create_csv in data generation:  --> Average time in 5 is 0.03 seconds\n",
      "----------------------------------------\n",
      "Running tests in: Creating JSONs\n",
      "create_json in data generation: \n",
      "\tReal time: 0.10221 seconds\n",
      "\tCPU time: 0.10187 seconds\n",
      "\n",
      "\n",
      "create_json in data generation:  --> Average time in 5 is 0.11 seconds\n",
      "----------------------------------------\n",
      "\n",
      "\n",
      "Running tests with data size: 3000\n",
      "----------------------------------------\n",
      "Generating users...\n"
     ]
    },
    {
     "name": "stderr",
     "output_type": "stream",
     "text": [
      "100%|██████████| 3000/3000 [00:00<00:00, 10421.56it/s]\n",
      "100%|██████████| 3000/3000 [00:00<00:00, 11072.54it/s]\n"
     ]
    },
    {
     "name": "stdout",
     "output_type": "stream",
     "text": [
      "<lambda> in data generation: \n",
      "\tReal time: 0.27409 seconds\n",
      "\tCPU time: 0.27207 seconds\n",
      "\n",
      "\n"
     ]
    },
    {
     "name": "stderr",
     "output_type": "stream",
     "text": [
      "100%|██████████| 3000/3000 [00:00<00:00, 12327.74it/s]\n",
      "100%|██████████| 3000/3000 [00:00<00:00, 10347.30it/s]\n",
      "100%|██████████| 3000/3000 [00:00<00:00, 12389.46it/s]\n",
      "100%|██████████| 3000/3000 [00:00<00:00, 12784.30it/s]\n",
      "100%|██████████| 3000/3000 [00:00<00:00, 11002.65it/s]"
     ]
    },
    {
     "name": "stdout",
     "output_type": "stream",
     "text": [
      "<lambda> in data generation:  --> Average time in 5 is 0.26 seconds\n"
     ]
    },
    {
     "name": "stderr",
     "output_type": "stream",
     "text": [
      "\n"
     ]
    },
    {
     "name": "stdout",
     "output_type": "stream",
     "text": [
      "Max memory usage: 0.28 GB\n",
      "Memory used by data: 0.02 MB\n",
      "Generating vehicles...\n"
     ]
    },
    {
     "name": "stderr",
     "output_type": "stream",
     "text": [
      "100%|██████████| 6000/6000 [00:00<00:00, 17138.33it/s]\n",
      "100%|██████████| 6000/6000 [00:00<00:00, 18877.23it/s]\n"
     ]
    },
    {
     "name": "stdout",
     "output_type": "stream",
     "text": [
      "<lambda> in data generation: \n",
      "\tReal time: 0.32166 seconds\n",
      "\tCPU time: 0.32022 seconds\n",
      "\n",
      "\n"
     ]
    },
    {
     "name": "stderr",
     "output_type": "stream",
     "text": [
      "100%|██████████| 6000/6000 [00:00<00:00, 18100.49it/s]\n",
      "100%|██████████| 6000/6000 [00:00<00:00, 17188.23it/s]\n",
      "100%|██████████| 6000/6000 [00:00<00:00, 18282.23it/s]\n",
      "100%|██████████| 6000/6000 [00:00<00:00, 16146.16it/s]\n",
      "100%|██████████| 6000/6000 [00:00<00:00, 18777.90it/s]"
     ]
    },
    {
     "name": "stdout",
     "output_type": "stream",
     "text": [
      "<lambda> in data generation:  --> Average time in 5 is 0.34 seconds\n"
     ]
    },
    {
     "name": "stderr",
     "output_type": "stream",
     "text": [
      "\n"
     ]
    },
    {
     "name": "stdout",
     "output_type": "stream",
     "text": [
      "Max memory usage: 0.29 GB\n",
      "Memory used by data: 0.05 MB\n",
      "Merging users and vehicles...\n",
      "<lambda> in data generation: \n",
      "\tReal time: 0.01349 seconds\n",
      "\tCPU time: 0.01341 seconds\n",
      "\n",
      "\n",
      "<lambda> in data generation:  --> Average time in 5 is 0.01 seconds\n",
      "Max memory usage: 0.30 GB\n",
      "Memory used by data: 0.02 MB\n",
      "Running tests in: Merging data\n",
      "merge_data in data generation: \n",
      "\tReal time: 0.01923 seconds\n",
      "\tCPU time: 0.01916 seconds\n",
      "\n",
      "\n",
      "merge_data in data generation:  --> Average time in 5 is 0.01 seconds\n",
      "----------------------------------------\n",
      "Running tests in: Creating CSVs\n",
      "create_csv in data generation: \n",
      "\tReal time: 0.04253 seconds\n",
      "\tCPU time: 0.04243 seconds\n",
      "\n",
      "\n",
      "create_csv in data generation:  --> Average time in 5 is 0.04 seconds\n",
      "----------------------------------------\n",
      "Running tests in: Creating JSONs\n",
      "create_json in data generation: \n",
      "\tReal time: 0.15180 seconds\n",
      "\tCPU time: 0.15128 seconds\n",
      "\n",
      "\n",
      "create_json in data generation:  --> Average time in 5 is 0.15 seconds\n",
      "----------------------------------------\n",
      "\n",
      "\n",
      "Running tests with data size: 4000\n",
      "----------------------------------------\n",
      "Generating users...\n"
     ]
    },
    {
     "name": "stderr",
     "output_type": "stream",
     "text": [
      "100%|██████████| 4000/4000 [00:00<00:00, 11389.08it/s]\n",
      "100%|██████████| 4000/4000 [00:00<00:00, 12297.88it/s]\n"
     ]
    },
    {
     "name": "stdout",
     "output_type": "stream",
     "text": [
      "<lambda> in data generation: \n",
      "\tReal time: 0.32860 seconds\n",
      "\tCPU time: 0.32768 seconds\n",
      "\n",
      "\n"
     ]
    },
    {
     "name": "stderr",
     "output_type": "stream",
     "text": [
      "100%|██████████| 4000/4000 [00:00<00:00, 12370.98it/s]\n",
      "100%|██████████| 4000/4000 [00:00<00:00, 12224.25it/s]\n",
      "100%|██████████| 4000/4000 [00:00<00:00, 12540.09it/s]\n",
      "100%|██████████| 4000/4000 [00:00<00:00, 10594.02it/s]\n",
      "100%|██████████| 4000/4000 [00:00<00:00, 11479.87it/s]"
     ]
    },
    {
     "name": "stdout",
     "output_type": "stream",
     "text": [
      "<lambda> in data generation:  --> Average time in 5 is 0.34 seconds\n"
     ]
    },
    {
     "name": "stderr",
     "output_type": "stream",
     "text": [
      "\n"
     ]
    },
    {
     "name": "stdout",
     "output_type": "stream",
     "text": [
      "Max memory usage: 0.30 GB\n",
      "Memory used by data: 0.03 MB\n",
      "Generating vehicles...\n"
     ]
    },
    {
     "name": "stderr",
     "output_type": "stream",
     "text": [
      "100%|██████████| 8000/8000 [00:00<00:00, 15788.92it/s]\n",
      "100%|██████████| 8000/8000 [00:00<00:00, 15922.11it/s]\n"
     ]
    },
    {
     "name": "stdout",
     "output_type": "stream",
     "text": [
      "<lambda> in data generation: \n",
      "\tReal time: 0.50703 seconds\n",
      "\tCPU time: 0.50463 seconds\n",
      "\n",
      "\n"
     ]
    },
    {
     "name": "stderr",
     "output_type": "stream",
     "text": [
      "100%|██████████| 8000/8000 [00:00<00:00, 14619.51it/s]\n",
      "100%|██████████| 8000/8000 [00:00<00:00, 16461.79it/s]\n",
      "100%|██████████| 8000/8000 [00:00<00:00, 18345.30it/s]\n",
      "100%|██████████| 8000/8000 [00:00<00:00, 16948.43it/s]\n",
      "100%|██████████| 8000/8000 [00:00<00:00, 19231.37it/s]"
     ]
    },
    {
     "name": "stdout",
     "output_type": "stream",
     "text": [
      "<lambda> in data generation:  --> Average time in 5 is 0.48 seconds\n"
     ]
    },
    {
     "name": "stderr",
     "output_type": "stream",
     "text": [
      "\n"
     ]
    },
    {
     "name": "stdout",
     "output_type": "stream",
     "text": [
      "Max memory usage: 0.31 GB\n",
      "Memory used by data: 0.06 MB\n",
      "Merging users and vehicles...\n",
      "<lambda> in data generation: \n",
      "\tReal time: 0.01807 seconds\n",
      "\tCPU time: 0.01795 seconds\n",
      "\n",
      "\n",
      "<lambda> in data generation:  --> Average time in 5 is 0.01 seconds\n",
      "Max memory usage: 0.31 GB\n",
      "Memory used by data: 0.03 MB\n",
      "Running tests in: Merging data\n",
      "merge_data in data generation: \n",
      "\tReal time: 0.02131 seconds\n",
      "\tCPU time: 0.02118 seconds\n",
      "\n",
      "\n",
      "merge_data in data generation:  --> Average time in 5 is 0.02 seconds\n",
      "----------------------------------------\n",
      "Running tests in: Creating CSVs\n",
      "create_csv in data generation: \n",
      "\tReal time: 0.05624 seconds\n",
      "\tCPU time: 0.05594 seconds\n",
      "\n",
      "\n",
      "create_csv in data generation:  --> Average time in 5 is 0.06 seconds\n",
      "----------------------------------------\n",
      "Running tests in: Creating JSONs\n",
      "create_json in data generation: \n",
      "\tReal time: 0.21419 seconds\n",
      "\tCPU time: 0.21312 seconds\n",
      "\n",
      "\n",
      "create_json in data generation:  --> Average time in 5 is 0.21 seconds\n",
      "----------------------------------------\n",
      "\n",
      "\n",
      "Running tests with data size: 5000\n",
      "----------------------------------------\n",
      "Generating users...\n"
     ]
    },
    {
     "name": "stderr",
     "output_type": "stream",
     "text": [
      "100%|██████████| 5000/5000 [00:00<00:00, 12093.32it/s]\n",
      "100%|██████████| 5000/5000 [00:00<00:00, 12082.05it/s]\n"
     ]
    },
    {
     "name": "stdout",
     "output_type": "stream",
     "text": [
      "<lambda> in data generation: \n",
      "\tReal time: 0.41728 seconds\n",
      "\tCPU time: 0.41615 seconds\n",
      "\n",
      "\n"
     ]
    },
    {
     "name": "stderr",
     "output_type": "stream",
     "text": [
      "100%|██████████| 5000/5000 [00:00<00:00, 13146.89it/s]\n",
      "100%|██████████| 5000/5000 [00:00<00:00, 10599.94it/s]\n",
      "100%|██████████| 5000/5000 [00:00<00:00, 11370.66it/s]\n",
      "100%|██████████| 5000/5000 [00:00<00:00, 11834.34it/s]\n",
      "100%|██████████| 5000/5000 [00:00<00:00, 12324.34it/s]"
     ]
    },
    {
     "name": "stdout",
     "output_type": "stream",
     "text": [
      "<lambda> in data generation:  --> Average time in 5 is 0.43 seconds\n"
     ]
    },
    {
     "name": "stderr",
     "output_type": "stream",
     "text": [
      "\n"
     ]
    },
    {
     "name": "stdout",
     "output_type": "stream",
     "text": [
      "Max memory usage: 0.33 GB\n",
      "Memory used by data: 0.04 MB\n",
      "Generating vehicles...\n"
     ]
    },
    {
     "name": "stderr",
     "output_type": "stream",
     "text": [
      "100%|██████████| 10000/10000 [00:00<00:00, 17993.40it/s]\n",
      "100%|██████████| 10000/10000 [00:00<00:00, 17926.73it/s]\n"
     ]
    },
    {
     "name": "stdout",
     "output_type": "stream",
     "text": [
      "<lambda> in data generation: \n",
      "\tReal time: 0.56098 seconds\n",
      "\tCPU time: 0.55941 seconds\n",
      "\n",
      "\n"
     ]
    },
    {
     "name": "stderr",
     "output_type": "stream",
     "text": [
      "100%|██████████| 10000/10000 [00:00<00:00, 18190.10it/s]\n",
      "100%|██████████| 10000/10000 [00:00<00:00, 17912.77it/s]\n",
      "100%|██████████| 10000/10000 [00:00<00:00, 18128.43it/s]\n",
      "100%|██████████| 10000/10000 [00:00<00:00, 17833.14it/s]\n",
      "100%|██████████| 10000/10000 [00:00<00:00, 17661.86it/s]"
     ]
    },
    {
     "name": "stdout",
     "output_type": "stream",
     "text": [
      "<lambda> in data generation:  --> Average time in 5 is 0.56 seconds\n"
     ]
    },
    {
     "name": "stderr",
     "output_type": "stream",
     "text": [
      "\n"
     ]
    },
    {
     "name": "stdout",
     "output_type": "stream",
     "text": [
      "Max memory usage: 0.35 GB\n",
      "Memory used by data: 0.08 MB\n",
      "Merging users and vehicles...\n",
      "<lambda> in data generation: \n",
      "\tReal time: 0.02571 seconds\n",
      "\tCPU time: 0.02595 seconds\n",
      "\n",
      "\n",
      "<lambda> in data generation:  --> Average time in 5 is 0.02 seconds\n",
      "Max memory usage: 0.35 GB\n",
      "Memory used by data: 0.03 MB\n",
      "Running tests in: Merging data\n",
      "merge_data in data generation: \n",
      "\tReal time: 0.03191 seconds\n",
      "\tCPU time: 0.03167 seconds\n",
      "\n",
      "\n",
      "merge_data in data generation:  --> Average time in 5 is 0.02 seconds\n",
      "----------------------------------------\n",
      "Running tests in: Creating CSVs\n",
      "create_csv in data generation: \n",
      "\tReal time: 0.08071 seconds\n",
      "\tCPU time: 0.08045 seconds\n",
      "\n",
      "\n",
      "create_csv in data generation:  --> Average time in 5 is 0.07 seconds\n",
      "----------------------------------------\n",
      "Running tests in: Creating JSONs\n",
      "create_json in data generation: \n",
      "\tReal time: 0.26343 seconds\n",
      "\tCPU time: 0.26236 seconds\n",
      "\n",
      "\n",
      "create_json in data generation:  --> Average time in 5 is 0.27 seconds\n",
      "----------------------------------------\n",
      "------------------------------------------------------------------------------------------\n"
     ]
    },
    {
     "data": {
      "image/png": "[encoded data removed]",
      "text/plain": [
       "<Figure size 2000x1200 with 6 Axes>"
      ]
     },
     "metadata": {},
     "output_type": "display_data"
    },
    {
     "name": "stderr",
     "output_type": "stream",
     "text": [
      "/tmp/ipykernel_51748/3427000777.py:8: UserWarning: FigureCanvasAgg is non-interactive, and thus cannot be shown\n",
      "  fig.show()\n"
     ]
    }
   ],
   "source": [
    "from modules.testing import test_data_generation, plot_test_data_generation\n",
    "\n",
    "flag = True\n",
    "if flag:\n",
    "    prov = MasterProvider()\n",
    "    res = test_data_generation(['Merging data', 'Creating CSVs', 'Creating JSONs'], [1000, 2000,3000,4000,5000], prov, iters=5)\n",
    "    fig = plot_test_data_generation(res)\n",
    "    fig.show()"
   ]
  },
  {
   "cell_type": "code",
   "execution_count": 12,
   "metadata": {},
   "outputs": [
    {
     "name": "stdout",
     "output_type": "stream",
     "text": [
      "\n",
      "\n",
      "Running tests with data size: 100\n",
      "----------------------------------------\n",
      "\n",
      "\n",
      "Step 1: Generating users and vehicles...\n"
     ]
    },
    {
     "name": "stderr",
     "output_type": "stream",
     "text": [
      "100%|██████████| 100/100 [00:00<00:00, 7670.50it/s]\n",
      "100%|██████████| 200/200 [00:00<00:00, 15069.54it/s]\n"
     ]
    },
    {
     "name": "stdout",
     "output_type": "stream",
     "text": [
      "\n",
      "\n",
      "Step 2: Testing delete operations\n",
      "Deleting data from psql...\n"
     ]
    },
    {
     "name": "stderr",
     "output_type": "stream",
     "text": [
      "Deleting tables from db psql: 2it [00:00, 104.46it/s]\n"
     ]
    },
    {
     "name": "stdout",
     "output_type": "stream",
     "text": [
      "delete_data in data generation: \n",
      "\tReal time: 0.02421 seconds\n",
      "\tCPU time: 0.00464 seconds\n",
      "\n",
      "\n"
     ]
    },
    {
     "name": "stderr",
     "output_type": "stream",
     "text": [
      "Deleting tables from db psql: 2it [00:00, 656.28it/s]\n"
     ]
    },
    {
     "name": "stdout",
     "output_type": "stream",
     "text": [
      "delete_data in data generation:  --> Average time in 1 is 0.02 seconds\n",
      "Deleting data from sqlite...\n"
     ]
    },
    {
     "name": "stderr",
     "output_type": "stream",
     "text": [
      "Deleting tables from db sqlite: 2it [00:00, 92.90it/s]\n"
     ]
    },
    {
     "name": "stdout",
     "output_type": "stream",
     "text": [
      "delete_data in data generation: \n",
      "\tReal time: 0.02903 seconds\n",
      "\tCPU time: 0.00941 seconds\n",
      "\n",
      "\n"
     ]
    },
    {
     "name": "stderr",
     "output_type": "stream",
     "text": [
      "Deleting tables from db sqlite: 2it [00:00, 586.12it/s]\n"
     ]
    },
    {
     "name": "stdout",
     "output_type": "stream",
     "text": [
      "delete_data in data generation:  --> Average time in 1 is 0.01 seconds\n",
      "Deleting data from mongo...\n"
     ]
    },
    {
     "name": "stderr",
     "output_type": "stream",
     "text": [
      "Deleting collections from db mongo: 100%|██████████| 2/2 [00:00<00:00, 42.21it/s]\n"
     ]
    },
    {
     "name": "stdout",
     "output_type": "stream",
     "text": [
      "delete_data in data generation: \n",
      "\tReal time: 0.05760 seconds\n",
      "\tCPU time: 0.01346 seconds\n",
      "\n",
      "\n"
     ]
    },
    {
     "name": "stderr",
     "output_type": "stream",
     "text": [
      "Deleting collections from db mongo: 100%|██████████| 2/2 [00:00<00:00, 365.04it/s]"
     ]
    },
    {
     "name": "stdout",
     "output_type": "stream",
     "text": [
      "delete_data in data generation:  --> Average time in 1 is 0.01 seconds\n",
      "Deleting data from duck...\n"
     ]
    },
    {
     "name": "stderr",
     "output_type": "stream",
     "text": [
      "\n",
      "Deleting tables from db duck: 2it [00:00, 65.78it/s]\n"
     ]
    },
    {
     "name": "stdout",
     "output_type": "stream",
     "text": [
      "delete_data in data generation: \n",
      "\tReal time: 0.06198 seconds\n",
      "\tCPU time: 0.06709 seconds\n",
      "\n",
      "\n"
     ]
    },
    {
     "name": "stderr",
     "output_type": "stream",
     "text": [
      "Deleting tables from db duck: 2it [00:00, 1498.77it/s]\n"
     ]
    },
    {
     "name": "stdout",
     "output_type": "stream",
     "text": [
      "delete_data in data generation:  --> Average time in 1 is 0.02 seconds\n",
      "\n",
      "\n",
      "Step 3: Testing insert operations\n"
     ]
    },
    {
     "name": "stderr",
     "output_type": "stream",
     "text": [
      "Deleting tables from db psql: 2it [00:00, 855.37it/s]"
     ]
    },
    {
     "name": "stdout",
     "output_type": "stream",
     "text": [
      "\n",
      "Inserting data into psql using method one (use_index=False)...\n"
     ]
    },
    {
     "name": "stderr",
     "output_type": "stream",
     "text": [
      "\n",
      "Inserting rows one by one in db psql: 100%|██████████| 100/100 [00:00<00:00, 155.04it/s]\n"
     ]
    },
    {
     "name": "stdout",
     "output_type": "stream",
     "text": [
      "insert_data in data generation: \n",
      "\tReal time: 0.65497 seconds\n",
      "\tCPU time: 0.18598 seconds\n",
      "\n",
      "\n"
     ]
    },
    {
     "name": "stderr",
     "output_type": "stream",
     "text": [
      "Deleting tables from db psql: 2it [00:00, 248.59it/s]\n",
      "Deleting tables from db psql: 2it [00:00, 977.24it/s]\n"
     ]
    },
    {
     "name": "stdout",
     "output_type": "stream",
     "text": [
      "\n",
      "Inserting data into psql using method one (use_index=True)...\n"
     ]
    },
    {
     "name": "stderr",
     "output_type": "stream",
     "text": [
      "Inserting rows one by one in db psql: 100%|██████████| 100/100 [00:00<00:00, 159.78it/s]\n"
     ]
    },
    {
     "name": "stdout",
     "output_type": "stream",
     "text": [
      "insert_data in data generation: \n",
      "\tReal time: 0.64486 seconds\n",
      "\tCPU time: 0.18137 seconds\n",
      "\n",
      "\n"
     ]
    },
    {
     "name": "stderr",
     "output_type": "stream",
     "text": [
      "Deleting tables from db psql: 2it [00:00, 281.03it/s]\n",
      "Deleting tables from db sqlite: 2it [00:00, 361.53it/s]\n"
     ]
    },
    {
     "name": "stdout",
     "output_type": "stream",
     "text": [
      "\n",
      "Inserting data into sqlite using method one (use_index=False)...\n"
     ]
    },
    {
     "name": "stderr",
     "output_type": "stream",
     "text": [
      "Inserting rows one by one in db sqlite: 100%|██████████| 100/100 [00:00<00:00, 625.61it/s]\n"
     ]
    },
    {
     "name": "stdout",
     "output_type": "stream",
     "text": [
      "insert_data in data generation: \n",
      "\tReal time: 0.16911 seconds\n",
      "\tCPU time: 0.06399 seconds\n",
      "\n",
      "\n"
     ]
    },
    {
     "name": "stderr",
     "output_type": "stream",
     "text": [
      "Deleting tables from db sqlite: 2it [00:00, 701.98it/s]\n",
      "Deleting tables from db sqlite: 2it [00:00, 771.37it/s]\n"
     ]
    },
    {
     "name": "stdout",
     "output_type": "stream",
     "text": [
      "\n",
      "Inserting data into sqlite using method one (use_index=True)...\n"
     ]
    },
    {
     "name": "stderr",
     "output_type": "stream",
     "text": [
      "Inserting rows one by one in db sqlite: 100%|██████████| 100/100 [00:00<00:00, 665.76it/s]\n"
     ]
    },
    {
     "name": "stdout",
     "output_type": "stream",
     "text": [
      "insert_data in data generation: \n",
      "\tReal time: 0.15888 seconds\n",
      "\tCPU time: 0.05784 seconds\n",
      "\n",
      "\n"
     ]
    },
    {
     "name": "stderr",
     "output_type": "stream",
     "text": [
      "Deleting tables from db sqlite: 2it [00:00, 694.02it/s]\n",
      "Deleting collections from db mongo: 100%|██████████| 2/2 [00:00<00:00, 1020.14it/s]\n"
     ]
    },
    {
     "name": "stdout",
     "output_type": "stream",
     "text": [
      "\n",
      "Inserting data into mongo using method one (use_index=False)...\n"
     ]
    },
    {
     "name": "stderr",
     "output_type": "stream",
     "text": [
      "Inserting one by one in MongoDB: 100%|██████████| 100/100 [00:00<00:00, 226.43it/s]\n"
     ]
    },
    {
     "name": "stdout",
     "output_type": "stream",
     "text": [
      "insert_data in data generation: \n",
      "\tReal time: 0.44678 seconds\n",
      "\tCPU time: 0.42581 seconds\n",
      "\n",
      "\n"
     ]
    },
    {
     "name": "stderr",
     "output_type": "stream",
     "text": [
      "Deleting collections from db mongo: 100%|██████████| 2/2 [00:00<00:00, 677.65it/s]\n",
      "Deleting collections from db mongo: 100%|██████████| 2/2 [00:00<00:00, 1136.51it/s]\n"
     ]
    },
    {
     "name": "stdout",
     "output_type": "stream",
     "text": [
      "\n",
      "Inserting data into mongo using method one (use_index=True)...\n"
     ]
    },
    {
     "name": "stderr",
     "output_type": "stream",
     "text": [
      "Inserting one by one in MongoDB: 100%|██████████| 100/100 [00:00<00:00, 307.02it/s]\n"
     ]
    },
    {
     "name": "stdout",
     "output_type": "stream",
     "text": [
      "insert_data in data generation: \n",
      "\tReal time: 0.33276 seconds\n",
      "\tCPU time: 0.30675 seconds\n",
      "\n",
      "\n"
     ]
    },
    {
     "name": "stderr",
     "output_type": "stream",
     "text": [
      "Deleting collections from db mongo: 100%|██████████| 2/2 [00:00<00:00, 490.48it/s]\n",
      "Deleting tables from db duck: 2it [00:00, 2113.00it/s]\n"
     ]
    },
    {
     "name": "stdout",
     "output_type": "stream",
     "text": [
      "\n",
      "Inserting data into duck using method one (use_index=False)...\n"
     ]
    },
    {
     "name": "stderr",
     "output_type": "stream",
     "text": [
      "Inserting rows one by one in db duck: 100%|██████████| 100/100 [00:04<00:00, 20.60it/s]\n"
     ]
    },
    {
     "name": "stdout",
     "output_type": "stream",
     "text": [
      "insert_data in data generation: \n",
      "\tReal time: 4.86343 seconds\n",
      "\tCPU time: 4.66537 seconds\n",
      "\n",
      "\n"
     ]
    },
    {
     "name": "stderr",
     "output_type": "stream",
     "text": [
      "Deleting tables from db duck: 2it [00:00, 233.01it/s]\n",
      "Deleting tables from db duck: 2it [00:00, 960.56it/s]\n"
     ]
    },
    {
     "name": "stdout",
     "output_type": "stream",
     "text": [
      "\n",
      "Inserting data into duck using method one (use_index=True)...\n"
     ]
    },
    {
     "name": "stderr",
     "output_type": "stream",
     "text": [
      "Inserting rows one by one in db duck: 100%|██████████| 100/100 [00:04<00:00, 21.53it/s]\n"
     ]
    },
    {
     "name": "stdout",
     "output_type": "stream",
     "text": [
      "insert_data in data generation: \n",
      "\tReal time: 4.68277 seconds\n",
      "\tCPU time: 4.46623 seconds\n",
      "\n",
      "\n"
     ]
    },
    {
     "name": "stderr",
     "output_type": "stream",
     "text": [
      "Deleting tables from db duck: 2it [00:00, 242.76it/s]\n",
      "Deleting tables from db psql: 2it [00:00, 806.60it/s]\n"
     ]
    },
    {
     "name": "stdout",
     "output_type": "stream",
     "text": [
      "\n",
      "Inserting data into psql using method at_once (use_index=False)...\n",
      "Inserting rows at_once in db psql\n",
      "insert_data in data generation: \n",
      "\tReal time: 0.02676 seconds\n",
      "\tCPU time: 0.01220 seconds\n",
      "\n",
      "\n"
     ]
    },
    {
     "name": "stderr",
     "output_type": "stream",
     "text": [
      "Deleting tables from db psql: 2it [00:00, 479.10it/s]\n",
      "Deleting tables from db psql: 2it [00:00, 2251.37it/s]\n"
     ]
    },
    {
     "name": "stdout",
     "output_type": "stream",
     "text": [
      "\n",
      "Inserting data into psql using method at_once (use_index=True)...\n",
      "Inserting rows at_once in db psql\n",
      "insert_data in data generation: \n",
      "\tReal time: 0.01972 seconds\n",
      "\tCPU time: 0.00795 seconds\n",
      "\n",
      "\n"
     ]
    },
    {
     "name": "stderr",
     "output_type": "stream",
     "text": [
      "Deleting tables from db psql: 2it [00:00, 593.93it/s]\n",
      "Deleting tables from db sqlite: 2it [00:00, 598.20it/s]\n"
     ]
    },
    {
     "name": "stdout",
     "output_type": "stream",
     "text": [
      "\n",
      "Inserting data into sqlite using method at_once (use_index=False)...\n",
      "Inserting rows at_once in db sqlite\n",
      "insert_data in data generation: \n",
      "\tReal time: 0.00569 seconds\n",
      "\tCPU time: 0.00464 seconds\n",
      "\n",
      "\n"
     ]
    },
    {
     "name": "stderr",
     "output_type": "stream",
     "text": [
      "Deleting tables from db sqlite: 2it [00:00, 653.57it/s]\n",
      "Deleting tables from db sqlite: 2it [00:00, 677.32it/s]\n"
     ]
    },
    {
     "name": "stdout",
     "output_type": "stream",
     "text": [
      "\n",
      "Inserting data into sqlite using method at_once (use_index=True)...\n",
      "Inserting rows at_once in db sqlite\n",
      "insert_data in data generation: \n",
      "\tReal time: 0.01654 seconds\n",
      "\tCPU time: 0.00593 seconds\n",
      "\n",
      "\n"
     ]
    },
    {
     "name": "stderr",
     "output_type": "stream",
     "text": [
      "Deleting tables from db sqlite: 2it [00:00, 494.35it/s]\n",
      "Deleting collections from db mongo: 100%|██████████| 2/2 [00:00<00:00, 849.31it/s]\n"
     ]
    },
    {
     "name": "stdout",
     "output_type": "stream",
     "text": [
      "\n",
      "Inserting data into mongo using method at_once (use_index=False)...\n"
     ]
    },
    {
     "name": "stderr",
     "output_type": "stream",
     "text": [
      "Inserting at once in MongoDB: 100%|██████████| 1/1 [00:00<00:00, 306.40it/s]\n"
     ]
    },
    {
     "name": "stdout",
     "output_type": "stream",
     "text": [
      "insert_data in data generation: \n",
      "\tReal time: 0.00961 seconds\n",
      "\tCPU time: 0.00929 seconds\n",
      "\n",
      "\n"
     ]
    },
    {
     "name": "stderr",
     "output_type": "stream",
     "text": [
      "Deleting collections from db mongo: 100%|██████████| 2/2 [00:00<00:00, 608.80it/s]\n",
      "Deleting collections from db mongo: 100%|██████████| 2/2 [00:00<00:00, 1300.56it/s]\n"
     ]
    },
    {
     "name": "stdout",
     "output_type": "stream",
     "text": [
      "\n",
      "Inserting data into mongo using method at_once (use_index=True)...\n"
     ]
    },
    {
     "name": "stderr",
     "output_type": "stream",
     "text": [
      "Inserting at once in MongoDB: 100%|██████████| 1/1 [00:00<00:00, 301.40it/s]\n"
     ]
    },
    {
     "name": "stdout",
     "output_type": "stream",
     "text": [
      "insert_data in data generation: \n",
      "\tReal time: 0.01277 seconds\n",
      "\tCPU time: 0.01265 seconds\n",
      "\n",
      "\n"
     ]
    },
    {
     "name": "stderr",
     "output_type": "stream",
     "text": [
      "Deleting collections from db mongo: 100%|██████████| 2/2 [00:00<00:00, 644.78it/s]\n",
      "Deleting tables from db duck: 2it [00:00, 1610.10it/s]\n"
     ]
    },
    {
     "name": "stdout",
     "output_type": "stream",
     "text": [
      "\n",
      "Inserting data into duck using method at_once (use_index=False)...\n",
      "Inserting rows at_once in db duck\n",
      "insert_data in data generation: \n",
      "\tReal time: 0.25137 seconds\n",
      "\tCPU time: 0.22247 seconds\n",
      "\n",
      "\n"
     ]
    },
    {
     "name": "stderr",
     "output_type": "stream",
     "text": [
      "Deleting tables from db duck: 2it [00:00, 367.81it/s]\n",
      "Deleting tables from db duck: 2it [00:00, 1762.68it/s]"
     ]
    },
    {
     "name": "stdout",
     "output_type": "stream",
     "text": [
      "\n",
      "Inserting data into duck using method at_once (use_index=True)...\n",
      "Inserting rows at_once in db duck\n"
     ]
    },
    {
     "name": "stderr",
     "output_type": "stream",
     "text": [
      "\n"
     ]
    },
    {
     "name": "stdout",
     "output_type": "stream",
     "text": [
      "insert_data in data generation: \n",
      "\tReal time: 0.38082 seconds\n",
      "\tCPU time: 0.35065 seconds\n",
      "\n",
      "\n"
     ]
    },
    {
     "name": "stderr",
     "output_type": "stream",
     "text": [
      "Deleting tables from db duck: 2it [00:00, 340.07it/s]\n",
      "Deleting tables from db psql: 2it [00:00, 1773.12it/s]\n"
     ]
    },
    {
     "name": "stdout",
     "output_type": "stream",
     "text": [
      "\n",
      "Inserting data into psql using method chunk (use_index=False)...\n"
     ]
    },
    {
     "name": "stderr",
     "output_type": "stream",
     "text": [
      "Inserting rows in chunks of 1000 in db psql: 100%|██████████| 1/1 [00:00<00:00, 84.52it/s]\n"
     ]
    },
    {
     "name": "stdout",
     "output_type": "stream",
     "text": [
      "insert_data in data generation: \n",
      "\tReal time: 0.02069 seconds\n",
      "\tCPU time: 0.01017 seconds\n",
      "\n",
      "\n"
     ]
    },
    {
     "name": "stderr",
     "output_type": "stream",
     "text": [
      "Deleting tables from db psql: 2it [00:00, 539.95it/s]\n",
      "Deleting tables from db psql: 2it [00:00, 2042.51it/s]\n"
     ]
    },
    {
     "name": "stdout",
     "output_type": "stream",
     "text": [
      "\n",
      "Inserting data into psql using method chunk (use_index=True)...\n"
     ]
    },
    {
     "name": "stderr",
     "output_type": "stream",
     "text": [
      "Inserting rows in chunks of 1000 in db psql: 100%|██████████| 1/1 [00:00<00:00, 68.10it/s]\n"
     ]
    },
    {
     "name": "stdout",
     "output_type": "stream",
     "text": [
      "insert_data in data generation: \n",
      "\tReal time: 0.02785 seconds\n",
      "\tCPU time: 0.01158 seconds\n",
      "\n",
      "\n"
     ]
    },
    {
     "name": "stderr",
     "output_type": "stream",
     "text": [
      "Deleting tables from db psql: 2it [00:00, 284.54it/s]\n",
      "Deleting tables from db sqlite: 2it [00:00, 370.29it/s]\n"
     ]
    },
    {
     "name": "stdout",
     "output_type": "stream",
     "text": [
      "\n",
      "Inserting data into sqlite using method chunk (use_index=False)...\n"
     ]
    },
    {
     "name": "stderr",
     "output_type": "stream",
     "text": [
      "Inserting rows in chunks of 1000 in db sqlite: 100%|██████████| 1/1 [00:00<00:00, 369.41it/s]\n"
     ]
    },
    {
     "name": "stdout",
     "output_type": "stream",
     "text": [
      "insert_data in data generation: \n",
      "\tReal time: 0.02832 seconds\n",
      "\tCPU time: 0.01753 seconds\n",
      "\n",
      "\n"
     ]
    },
    {
     "name": "stderr",
     "output_type": "stream",
     "text": [
      "Deleting tables from db sqlite: 2it [00:00, 210.54it/s]\n",
      "Deleting tables from db sqlite: 2it [00:00, 253.19it/s]\n"
     ]
    },
    {
     "name": "stdout",
     "output_type": "stream",
     "text": [
      "\n",
      "Inserting data into sqlite using method chunk (use_index=True)...\n"
     ]
    },
    {
     "name": "stderr",
     "output_type": "stream",
     "text": [
      "Inserting rows in chunks of 1000 in db sqlite: 100%|██████████| 1/1 [00:00<00:00, 489.07it/s]\n"
     ]
    },
    {
     "name": "stdout",
     "output_type": "stream",
     "text": [
      "insert_data in data generation: \n",
      "\tReal time: 0.02606 seconds\n",
      "\tCPU time: 0.01757 seconds\n",
      "\n",
      "\n"
     ]
    },
    {
     "name": "stderr",
     "output_type": "stream",
     "text": [
      "Deleting tables from db sqlite: 2it [00:00, 541.38it/s]\n",
      "Deleting collections from db mongo: 100%|██████████| 2/2 [00:00<00:00, 745.39it/s]\n"
     ]
    },
    {
     "name": "stdout",
     "output_type": "stream",
     "text": [
      "\n",
      "Inserting data into mongo using method chunk (use_index=False)...\n"
     ]
    },
    {
     "name": "stderr",
     "output_type": "stream",
     "text": [
      "Inserting in chunks of 1000 in MongoDB: 100%|██████████| 1/1 [00:00<00:00, 216.69it/s]\n"
     ]
    },
    {
     "name": "stdout",
     "output_type": "stream",
     "text": [
      "insert_data in data generation: \n",
      "\tReal time: 0.01273 seconds\n",
      "\tCPU time: 0.01232 seconds\n",
      "\n",
      "\n"
     ]
    },
    {
     "name": "stderr",
     "output_type": "stream",
     "text": [
      "Deleting collections from db mongo: 100%|██████████| 2/2 [00:00<00:00, 702.45it/s]\n",
      "Deleting collections from db mongo: 100%|██████████| 2/2 [00:00<00:00, 627.23it/s]\n"
     ]
    },
    {
     "name": "stdout",
     "output_type": "stream",
     "text": [
      "\n",
      "Inserting data into mongo using method chunk (use_index=True)...\n"
     ]
    },
    {
     "name": "stderr",
     "output_type": "stream",
     "text": [
      "Inserting in chunks of 1000 in MongoDB: 100%|██████████| 1/1 [00:00<00:00, 357.08it/s]\n"
     ]
    },
    {
     "name": "stdout",
     "output_type": "stream",
     "text": [
      "insert_data in data generation: \n",
      "\tReal time: 0.01317 seconds\n",
      "\tCPU time: 0.01286 seconds\n",
      "\n",
      "\n"
     ]
    },
    {
     "name": "stderr",
     "output_type": "stream",
     "text": [
      "Deleting collections from db mongo: 100%|██████████| 2/2 [00:00<00:00, 723.34it/s]\n",
      "Deleting tables from db duck: 2it [00:00, 1363.78it/s]"
     ]
    },
    {
     "name": "stdout",
     "output_type": "stream",
     "text": [
      "\n",
      "Inserting data into duck using method chunk (use_index=False)...\n"
     ]
    },
    {
     "name": "stderr",
     "output_type": "stream",
     "text": [
      "\n",
      "Inserting rows in chunks of 1000 in db duck: 100%|██████████| 1/1 [00:00<00:00,  3.34it/s]\n"
     ]
    },
    {
     "name": "stdout",
     "output_type": "stream",
     "text": [
      "insert_data in data generation: \n",
      "\tReal time: 0.37763 seconds\n",
      "\tCPU time: 0.35385 seconds\n",
      "\n",
      "\n"
     ]
    },
    {
     "name": "stderr",
     "output_type": "stream",
     "text": [
      "Deleting tables from db duck: 2it [00:00, 189.85it/s]\n",
      "Deleting tables from db duck: 2it [00:00, 890.60it/s]\n"
     ]
    },
    {
     "name": "stdout",
     "output_type": "stream",
     "text": [
      "\n",
      "Inserting data into duck using method chunk (use_index=True)...\n"
     ]
    },
    {
     "name": "stderr",
     "output_type": "stream",
     "text": [
      "Inserting rows in chunks of 1000 in db duck: 100%|██████████| 1/1 [00:00<00:00,  4.31it/s]\n"
     ]
    },
    {
     "name": "stdout",
     "output_type": "stream",
     "text": [
      "insert_data in data generation: \n",
      "\tReal time: 0.30185 seconds\n",
      "\tCPU time: 0.27576 seconds\n",
      "\n",
      "\n"
     ]
    },
    {
     "name": "stderr",
     "output_type": "stream",
     "text": [
      "Deleting tables from db duck: 2it [00:00, 382.52it/s]\n"
     ]
    },
    {
     "name": "stdout",
     "output_type": "stream",
     "text": [
      "\n",
      "\n",
      "Step 4: Testing select operations\n",
      "Selecting data from psql...\n",
      "select_all_records in data generation: \n",
      "\tReal time: 0.00370 seconds\n",
      "\tCPU time: 0.00150 seconds\n",
      "\n",
      "\n",
      "select_all_records in data generation:  --> Average time in 1 is 0.00 seconds\n",
      "Selecting data from sqlite...\n",
      "select_all_records in data generation: \n",
      "\tReal time: 0.00032 seconds\n",
      "\tCPU time: 0.00031 seconds\n",
      "\n",
      "\n",
      "select_all_records in data generation:  --> Average time in 1 is 0.00 seconds\n",
      "Selecting data from mongo...\n",
      "select_all_records in data generation: \n",
      "\tReal time: 0.00341 seconds\n",
      "\tCPU time: 0.00310 seconds\n",
      "\n",
      "\n",
      "select_all_records in data generation:  --> Average time in 1 is 0.00 seconds\n",
      "Selecting data from duck...\n",
      "select_all_records in data generation: \n",
      "\tReal time: 0.00873 seconds\n",
      "\tCPU time: 0.00916 seconds\n",
      "\n",
      "\n",
      "select_all_records in data generation:  --> Average time in 1 is 0.01 seconds\n",
      "\n",
      "\n",
      "Step 5: Testing update operations\n",
      "Updating data in psql...\n",
      "update_record in data generation: \n",
      "\tReal time: 0.00701 seconds\n",
      "\tCPU time: 0.00149 seconds\n",
      "\n",
      "\n",
      "update_record in data generation:  --> Average time in 1 is 0.01 seconds\n",
      "Updating data in sqlite...\n",
      "update_record in data generation: \n",
      "\tReal time: 0.00061 seconds\n",
      "\tCPU time: 0.00059 seconds\n",
      "\n",
      "\n",
      "update_record in data generation:  --> Average time in 1 is 0.00 seconds\n",
      "Updating data in mongo...\n",
      "update_record in data generation: \n",
      "\tReal time: 0.00667 seconds\n",
      "\tCPU time: 0.00602 seconds\n",
      "\n",
      "\n",
      "update_record in data generation:  --> Average time in 1 is 0.01 seconds\n",
      "Updating data in duck...\n",
      "update_record in data generation: \n",
      "\tReal time: 0.01831 seconds\n",
      "\tCPU time: 0.01884 seconds\n",
      "\n",
      "\n",
      "update_record in data generation:  --> Average time in 1 is 0.02 seconds\n",
      "\n",
      "\n",
      "Running tests with data size: 200\n",
      "----------------------------------------\n",
      "\n",
      "\n",
      "Step 1: Generating users and vehicles...\n"
     ]
    },
    {
     "name": "stderr",
     "output_type": "stream",
     "text": [
      "100%|██████████| 200/200 [00:00<00:00, 6059.21it/s]\n",
      "100%|██████████| 400/400 [00:00<00:00, 17054.87it/s]\n"
     ]
    },
    {
     "name": "stdout",
     "output_type": "stream",
     "text": [
      "\n",
      "\n",
      "Step 2: Testing delete operations\n",
      "Deleting data from psql...\n"
     ]
    },
    {
     "name": "stderr",
     "output_type": "stream",
     "text": [
      "Deleting tables from db psql: 2it [00:00, 1898.30it/s]\n"
     ]
    },
    {
     "name": "stdout",
     "output_type": "stream",
     "text": [
      "delete_data in data generation: \n",
      "\tReal time: 0.00644 seconds\n",
      "\tCPU time: 0.00460 seconds\n",
      "\n",
      "\n"
     ]
    },
    {
     "name": "stderr",
     "output_type": "stream",
     "text": [
      "Deleting tables from db psql: 2it [00:00, 1872.04it/s]\n"
     ]
    },
    {
     "name": "stdout",
     "output_type": "stream",
     "text": [
      "delete_data in data generation:  --> Average time in 1 is 0.01 seconds\n",
      "Deleting data from sqlite...\n"
     ]
    },
    {
     "name": "stderr",
     "output_type": "stream",
     "text": [
      "Deleting tables from db sqlite: 2it [00:00, 609.77it/s]\n"
     ]
    },
    {
     "name": "stdout",
     "output_type": "stream",
     "text": [
      "delete_data in data generation: \n",
      "\tReal time: 0.00534 seconds\n",
      "\tCPU time: 0.00393 seconds\n",
      "\n",
      "\n"
     ]
    },
    {
     "name": "stderr",
     "output_type": "stream",
     "text": [
      "Deleting tables from db sqlite: 2it [00:00, 645.33it/s]\n"
     ]
    },
    {
     "name": "stdout",
     "output_type": "stream",
     "text": [
      "delete_data in data generation:  --> Average time in 1 is 0.01 seconds\n",
      "Deleting data from mongo...\n"
     ]
    },
    {
     "name": "stderr",
     "output_type": "stream",
     "text": [
      "Deleting collections from db mongo: 100%|██████████| 2/2 [00:00<00:00, 705.46it/s]\n"
     ]
    },
    {
     "name": "stdout",
     "output_type": "stream",
     "text": [
      "delete_data in data generation: \n",
      "\tReal time: 0.00860 seconds\n",
      "\tCPU time: 0.00921 seconds\n",
      "\n",
      "\n"
     ]
    },
    {
     "name": "stderr",
     "output_type": "stream",
     "text": [
      "Deleting collections from db mongo: 100%|██████████| 2/2 [00:00<00:00, 994.62it/s]\n"
     ]
    },
    {
     "name": "stdout",
     "output_type": "stream",
     "text": [
      "delete_data in data generation:  --> Average time in 1 is 0.01 seconds\n",
      "Deleting data from duck...\n"
     ]
    },
    {
     "name": "stderr",
     "output_type": "stream",
     "text": [
      "Deleting tables from db duck: 2it [00:00, 1505.49it/s]\n"
     ]
    },
    {
     "name": "stdout",
     "output_type": "stream",
     "text": [
      "delete_data in data generation: \n",
      "\tReal time: 0.01342 seconds\n",
      "\tCPU time: 0.01463 seconds\n",
      "\n",
      "\n"
     ]
    },
    {
     "name": "stderr",
     "output_type": "stream",
     "text": [
      "Deleting tables from db duck: 2it [00:00, 1379.48it/s]\n"
     ]
    },
    {
     "name": "stdout",
     "output_type": "stream",
     "text": [
      "delete_data in data generation:  --> Average time in 1 is 0.01 seconds\n",
      "\n",
      "\n",
      "Step 3: Testing insert operations\n"
     ]
    },
    {
     "name": "stderr",
     "output_type": "stream",
     "text": [
      "Deleting tables from db psql: 2it [00:00, 1349.08it/s]\n"
     ]
    },
    {
     "name": "stdout",
     "output_type": "stream",
     "text": [
      "\n",
      "Inserting data into psql using method one (use_index=False)...\n"
     ]
    },
    {
     "name": "stderr",
     "output_type": "stream",
     "text": [
      "Inserting rows one by one in db psql: 100%|██████████| 200/200 [00:01<00:00, 169.51it/s]\n"
     ]
    },
    {
     "name": "stdout",
     "output_type": "stream",
     "text": [
      "insert_data in data generation: \n",
      "\tReal time: 1.18765 seconds\n",
      "\tCPU time: 0.32366 seconds\n",
      "\n",
      "\n"
     ]
    },
    {
     "name": "stderr",
     "output_type": "stream",
     "text": [
      "Deleting tables from db psql: 2it [00:00, 210.07it/s]\n",
      "Deleting tables from db psql: 2it [00:00, 775.65it/s]\n"
     ]
    },
    {
     "name": "stdout",
     "output_type": "stream",
     "text": [
      "\n",
      "Inserting data into psql using method one (use_index=True)...\n"
     ]
    },
    {
     "name": "stderr",
     "output_type": "stream",
     "text": [
      "Inserting rows one by one in db psql: 100%|██████████| 200/200 [00:01<00:00, 167.87it/s]\n"
     ]
    },
    {
     "name": "stdout",
     "output_type": "stream",
     "text": [
      "insert_data in data generation: \n",
      "\tReal time: 1.21138 seconds\n",
      "\tCPU time: 0.32993 seconds\n",
      "\n",
      "\n"
     ]
    },
    {
     "name": "stderr",
     "output_type": "stream",
     "text": [
      "Deleting tables from db psql: 2it [00:00, 179.63it/s]\n",
      "Deleting tables from db sqlite: 2it [00:00, 452.88it/s]\n"
     ]
    },
    {
     "name": "stdout",
     "output_type": "stream",
     "text": [
      "\n",
      "Inserting data into sqlite using method one (use_index=False)...\n"
     ]
    },
    {
     "name": "stderr",
     "output_type": "stream",
     "text": [
      "Inserting rows one by one in db sqlite: 100%|██████████| 200/200 [00:00<00:00, 636.36it/s]\n"
     ]
    },
    {
     "name": "stdout",
     "output_type": "stream",
     "text": [
      "insert_data in data generation: \n",
      "\tReal time: 0.32628 seconds\n",
      "\tCPU time: 0.12083 seconds\n",
      "\n",
      "\n"
     ]
    },
    {
     "name": "stderr",
     "output_type": "stream",
     "text": [
      "Deleting tables from db sqlite: 2it [00:00, 659.59it/s]\n",
      "Deleting tables from db sqlite: 2it [00:00, 643.00it/s]\n"
     ]
    },
    {
     "name": "stdout",
     "output_type": "stream",
     "text": [
      "\n",
      "Inserting data into sqlite using method one (use_index=True)...\n"
     ]
    },
    {
     "name": "stderr",
     "output_type": "stream",
     "text": [
      "Inserting rows one by one in db sqlite: 100%|██████████| 200/200 [00:00<00:00, 643.34it/s]\n"
     ]
    },
    {
     "name": "stdout",
     "output_type": "stream",
     "text": [
      "insert_data in data generation: \n",
      "\tReal time: 0.31733 seconds\n",
      "\tCPU time: 0.11006 seconds\n",
      "\n",
      "\n"
     ]
    },
    {
     "name": "stderr",
     "output_type": "stream",
     "text": [
      "Deleting tables from db sqlite: 2it [00:00, 614.73it/s]\n",
      "Deleting collections from db mongo: 100%|██████████| 2/2 [00:00<00:00, 1248.49it/s]\n"
     ]
    },
    {
     "name": "stdout",
     "output_type": "stream",
     "text": [
      "\n",
      "Inserting data into mongo using method one (use_index=False)...\n"
     ]
    },
    {
     "name": "stderr",
     "output_type": "stream",
     "text": [
      "Inserting one by one in MongoDB: 100%|██████████| 200/200 [00:00<00:00, 369.78it/s]\n"
     ]
    },
    {
     "name": "stdout",
     "output_type": "stream",
     "text": [
      "insert_data in data generation: \n",
      "\tReal time: 0.54577 seconds\n",
      "\tCPU time: 0.52722 seconds\n",
      "\n",
      "\n"
     ]
    },
    {
     "name": "stderr",
     "output_type": "stream",
     "text": [
      "Deleting collections from db mongo: 100%|██████████| 2/2 [00:00<00:00, 470.37it/s]\n",
      "Deleting collections from db mongo: 100%|██████████| 2/2 [00:00<00:00, 1248.68it/s]\n"
     ]
    },
    {
     "name": "stdout",
     "output_type": "stream",
     "text": [
      "\n",
      "Inserting data into mongo using method one (use_index=True)...\n"
     ]
    },
    {
     "name": "stderr",
     "output_type": "stream",
     "text": [
      "Inserting one by one in MongoDB: 100%|██████████| 200/200 [00:00<00:00, 347.99it/s]\n"
     ]
    },
    {
     "name": "stdout",
     "output_type": "stream",
     "text": [
      "insert_data in data generation: \n",
      "\tReal time: 0.58166 seconds\n",
      "\tCPU time: 0.54781 seconds\n",
      "\n",
      "\n"
     ]
    },
    {
     "name": "stderr",
     "output_type": "stream",
     "text": [
      "Deleting collections from db mongo: 100%|██████████| 2/2 [00:00<00:00, 471.08it/s]\n",
      "Deleting tables from db duck: 2it [00:00, 1515.28it/s]\n"
     ]
    },
    {
     "name": "stdout",
     "output_type": "stream",
     "text": [
      "\n",
      "Inserting data into duck using method one (use_index=False)...\n"
     ]
    },
    {
     "name": "stderr",
     "output_type": "stream",
     "text": [
      "Inserting rows one by one in db duck: 100%|██████████| 200/200 [00:11<00:00, 17.72it/s]\n"
     ]
    },
    {
     "name": "stdout",
     "output_type": "stream",
     "text": [
      "insert_data in data generation: \n",
      "\tReal time: 11.29435 seconds\n",
      "\tCPU time: 10.83854 seconds\n",
      "\n",
      "\n"
     ]
    },
    {
     "name": "stderr",
     "output_type": "stream",
     "text": [
      "Deleting tables from db duck: 2it [00:00, 188.67it/s]\n",
      "Deleting tables from db duck: 2it [00:00, 1357.60it/s]\n"
     ]
    },
    {
     "name": "stdout",
     "output_type": "stream",
     "text": [
      "\n",
      "Inserting data into duck using method one (use_index=True)...\n"
     ]
    },
    {
     "name": "stderr",
     "output_type": "stream",
     "text": [
      "Inserting rows one by one in db duck: 100%|██████████| 200/200 [00:11<00:00, 16.89it/s]\n"
     ]
    },
    {
     "name": "stdout",
     "output_type": "stream",
     "text": [
      "insert_data in data generation: \n",
      "\tReal time: 11.86390 seconds\n",
      "\tCPU time: 11.38110 seconds\n",
      "\n",
      "\n"
     ]
    },
    {
     "name": "stderr",
     "output_type": "stream",
     "text": [
      "Deleting tables from db duck: 2it [00:00, 173.28it/s]\n",
      "Deleting tables from db psql: 2it [00:00, 1526.87it/s]\n"
     ]
    },
    {
     "name": "stdout",
     "output_type": "stream",
     "text": [
      "\n",
      "Inserting data into psql using method at_once (use_index=False)...\n",
      "Inserting rows at_once in db psql\n",
      "insert_data in data generation: \n",
      "\tReal time: 0.03038 seconds\n",
      "\tCPU time: 0.01349 seconds\n",
      "\n",
      "\n"
     ]
    },
    {
     "name": "stderr",
     "output_type": "stream",
     "text": [
      "Deleting tables from db psql: 2it [00:00, 532.37it/s]\n",
      "Deleting tables from db psql: 2it [00:00, 1223.54it/s]\n"
     ]
    },
    {
     "name": "stdout",
     "output_type": "stream",
     "text": [
      "\n",
      "Inserting data into psql using method at_once (use_index=True)...\n",
      "Inserting rows at_once in db psql\n",
      "insert_data in data generation: \n",
      "\tReal time: 0.05237 seconds\n",
      "\tCPU time: 0.01834 seconds\n",
      "\n",
      "\n"
     ]
    },
    {
     "name": "stderr",
     "output_type": "stream",
     "text": [
      "Deleting tables from db psql: 2it [00:00, 235.77it/s]\n",
      "Deleting tables from db sqlite: 2it [00:00, 433.07it/s]\n"
     ]
    },
    {
     "name": "stdout",
     "output_type": "stream",
     "text": [
      "\n",
      "Inserting data into sqlite using method at_once (use_index=False)...\n",
      "Inserting rows at_once in db sqlite\n",
      "insert_data in data generation: \n",
      "\tReal time: 0.01765 seconds\n",
      "\tCPU time: 0.01530 seconds\n",
      "\n",
      "\n"
     ]
    },
    {
     "name": "stderr",
     "output_type": "stream",
     "text": [
      "Deleting tables from db sqlite: 2it [00:00, 310.13it/s]\n",
      "Deleting tables from db sqlite: 2it [00:00, 401.70it/s]\n"
     ]
    },
    {
     "name": "stdout",
     "output_type": "stream",
     "text": [
      "\n",
      "Inserting data into sqlite using method at_once (use_index=True)...\n",
      "Inserting rows at_once in db sqlite\n",
      "insert_data in data generation: \n",
      "\tReal time: 0.01695 seconds\n",
      "\tCPU time: 0.01623 seconds\n",
      "\n",
      "\n"
     ]
    },
    {
     "name": "stderr",
     "output_type": "stream",
     "text": [
      "Deleting tables from db sqlite: 2it [00:00, 468.27it/s]\n",
      "Deleting collections from db mongo: 100%|██████████| 2/2 [00:00<00:00, 244.20it/s]\n"
     ]
    },
    {
     "name": "stdout",
     "output_type": "stream",
     "text": [
      "\n",
      "Inserting data into mongo using method at_once (use_index=False)...\n"
     ]
    },
    {
     "name": "stderr",
     "output_type": "stream",
     "text": [
      "Inserting at once in MongoDB: 100%|██████████| 1/1 [00:00<00:00, 47.64it/s]\n"
     ]
    },
    {
     "name": "stdout",
     "output_type": "stream",
     "text": [
      "insert_data in data generation: \n",
      "\tReal time: 0.04487 seconds\n",
      "\tCPU time: 0.02131 seconds\n",
      "\n",
      "\n"
     ]
    },
    {
     "name": "stderr",
     "output_type": "stream",
     "text": [
      "Deleting collections from db mongo: 100%|██████████| 2/2 [00:00<00:00, 414.33it/s]\n",
      "Deleting collections from db mongo: 100%|██████████| 2/2 [00:00<00:00, 1093.12it/s]\n"
     ]
    },
    {
     "name": "stdout",
     "output_type": "stream",
     "text": [
      "\n",
      "Inserting data into mongo using method at_once (use_index=True)...\n"
     ]
    },
    {
     "name": "stderr",
     "output_type": "stream",
     "text": [
      "Inserting at once in MongoDB: 100%|██████████| 1/1 [00:00<00:00, 157.76it/s]\n"
     ]
    },
    {
     "name": "stdout",
     "output_type": "stream",
     "text": [
      "insert_data in data generation: \n",
      "\tReal time: 0.02738 seconds\n",
      "\tCPU time: 0.02049 seconds\n",
      "\n",
      "\n"
     ]
    },
    {
     "name": "stderr",
     "output_type": "stream",
     "text": [
      "Deleting collections from db mongo: 100%|██████████| 2/2 [00:00<00:00, 430.32it/s]\n",
      "Deleting tables from db duck: 2it [00:00, 1210.30it/s]\n"
     ]
    },
    {
     "name": "stdout",
     "output_type": "stream",
     "text": [
      "\n",
      "Inserting data into duck using method at_once (use_index=False)...\n",
      "Inserting rows at_once in db duck\n",
      "insert_data in data generation: \n",
      "\tReal time: 0.58846 seconds\n",
      "\tCPU time: 0.53824 seconds\n",
      "\n",
      "\n"
     ]
    },
    {
     "name": "stderr",
     "output_type": "stream",
     "text": [
      "Deleting tables from db duck: 2it [00:00, 148.72it/s]\n",
      "Deleting tables from db duck: 2it [00:00, 1108.14it/s]"
     ]
    },
    {
     "name": "stdout",
     "output_type": "stream",
     "text": [
      "\n",
      "Inserting data into duck using method at_once (use_index=True)...\n",
      "Inserting rows at_once in db duck\n"
     ]
    },
    {
     "name": "stderr",
     "output_type": "stream",
     "text": [
      "\n"
     ]
    },
    {
     "name": "stdout",
     "output_type": "stream",
     "text": [
      "insert_data in data generation: \n",
      "\tReal time: 0.70491 seconds\n",
      "\tCPU time: 0.64697 seconds\n",
      "\n",
      "\n"
     ]
    },
    {
     "name": "stderr",
     "output_type": "stream",
     "text": [
      "Deleting tables from db duck: 2it [00:00, 115.13it/s]\n",
      "Deleting tables from db psql: 2it [00:00, 1053.98it/s]\n"
     ]
    },
    {
     "name": "stdout",
     "output_type": "stream",
     "text": [
      "\n",
      "Inserting data into psql using method chunk (use_index=False)...\n"
     ]
    },
    {
     "name": "stderr",
     "output_type": "stream",
     "text": [
      "Inserting rows in chunks of 1000 in db psql: 100%|██████████| 1/1 [00:00<00:00, 23.12it/s]\n"
     ]
    },
    {
     "name": "stdout",
     "output_type": "stream",
     "text": [
      "insert_data in data generation: \n",
      "\tReal time: 0.05611 seconds\n",
      "\tCPU time: 0.02297 seconds\n",
      "\n",
      "\n"
     ]
    },
    {
     "name": "stderr",
     "output_type": "stream",
     "text": [
      "Deleting tables from db psql: 2it [00:00, 279.63it/s]\n",
      "Deleting tables from db psql: 2it [00:00, 972.14it/s]\n"
     ]
    },
    {
     "name": "stdout",
     "output_type": "stream",
     "text": [
      "\n",
      "Inserting data into psql using method chunk (use_index=True)...\n"
     ]
    },
    {
     "name": "stderr",
     "output_type": "stream",
     "text": [
      "Inserting rows in chunks of 1000 in db psql: 100%|██████████| 1/1 [00:00<00:00, 20.32it/s]\n"
     ]
    },
    {
     "name": "stdout",
     "output_type": "stream",
     "text": [
      "insert_data in data generation: \n",
      "\tReal time: 0.07712 seconds\n",
      "\tCPU time: 0.03443 seconds\n",
      "\n",
      "\n"
     ]
    },
    {
     "name": "stderr",
     "output_type": "stream",
     "text": [
      "Deleting tables from db psql: 2it [00:00, 293.02it/s]\n",
      "Deleting tables from db sqlite: 2it [00:00, 498.70it/s]\n"
     ]
    },
    {
     "name": "stdout",
     "output_type": "stream",
     "text": [
      "\n",
      "Inserting data into sqlite using method chunk (use_index=False)...\n"
     ]
    },
    {
     "name": "stderr",
     "output_type": "stream",
     "text": [
      "Inserting rows in chunks of 1000 in db sqlite: 100%|██████████| 1/1 [00:00<00:00, 397.15it/s]\n"
     ]
    },
    {
     "name": "stdout",
     "output_type": "stream",
     "text": [
      "insert_data in data generation: \n",
      "\tReal time: 0.01557 seconds\n",
      "\tCPU time: 0.01570 seconds\n",
      "\n",
      "\n"
     ]
    },
    {
     "name": "stderr",
     "output_type": "stream",
     "text": [
      "Deleting tables from db sqlite: 2it [00:00, 472.23it/s]\n",
      "Deleting tables from db sqlite: 2it [00:00, 530.99it/s]\n"
     ]
    },
    {
     "name": "stdout",
     "output_type": "stream",
     "text": [
      "\n",
      "Inserting data into sqlite using method chunk (use_index=True)...\n"
     ]
    },
    {
     "name": "stderr",
     "output_type": "stream",
     "text": [
      "Inserting rows in chunks of 1000 in db sqlite: 100%|██████████| 1/1 [00:00<00:00, 470.27it/s]\n"
     ]
    },
    {
     "name": "stdout",
     "output_type": "stream",
     "text": [
      "insert_data in data generation: \n",
      "\tReal time: 0.02681 seconds\n",
      "\tCPU time: 0.01588 seconds\n",
      "\n",
      "\n"
     ]
    },
    {
     "name": "stderr",
     "output_type": "stream",
     "text": [
      "Deleting tables from db sqlite: 2it [00:00, 326.71it/s]\n",
      "Deleting collections from db mongo: 100%|██████████| 2/2 [00:00<00:00, 327.78it/s]\n"
     ]
    },
    {
     "name": "stdout",
     "output_type": "stream",
     "text": [
      "\n",
      "Inserting data into mongo using method chunk (use_index=False)...\n"
     ]
    },
    {
     "name": "stderr",
     "output_type": "stream",
     "text": [
      "Inserting in chunks of 1000 in MongoDB: 100%|██████████| 1/1 [00:00<00:00, 96.58it/s]\n"
     ]
    },
    {
     "name": "stdout",
     "output_type": "stream",
     "text": [
      "insert_data in data generation: \n",
      "\tReal time: 0.02957 seconds\n",
      "\tCPU time: 0.01706 seconds\n",
      "\n",
      "\n"
     ]
    },
    {
     "name": "stderr",
     "output_type": "stream",
     "text": [
      "Deleting collections from db mongo: 100%|██████████| 2/2 [00:00<00:00, 218.60it/s]\n",
      "Deleting collections from db mongo: 100%|██████████| 2/2 [00:00<00:00, 1294.34it/s]\n"
     ]
    },
    {
     "name": "stdout",
     "output_type": "stream",
     "text": [
      "\n",
      "Inserting data into mongo using method chunk (use_index=True)...\n"
     ]
    },
    {
     "name": "stderr",
     "output_type": "stream",
     "text": [
      "Inserting in chunks of 1000 in MongoDB: 100%|██████████| 1/1 [00:00<00:00, 177.71it/s]\n"
     ]
    },
    {
     "name": "stdout",
     "output_type": "stream",
     "text": [
      "insert_data in data generation: \n",
      "\tReal time: 0.02065 seconds\n",
      "\tCPU time: 0.01746 seconds\n",
      "\n",
      "\n"
     ]
    },
    {
     "name": "stderr",
     "output_type": "stream",
     "text": [
      "Deleting collections from db mongo: 100%|██████████| 2/2 [00:00<00:00, 322.13it/s]\n",
      "Deleting tables from db duck: 2it [00:00, 1191.39it/s]\n"
     ]
    },
    {
     "name": "stdout",
     "output_type": "stream",
     "text": [
      "\n",
      "Inserting data into duck using method chunk (use_index=False)...\n"
     ]
    },
    {
     "name": "stderr",
     "output_type": "stream",
     "text": [
      "Inserting rows in chunks of 1000 in db duck: 100%|██████████| 1/1 [00:00<00:00,  1.52it/s]\n"
     ]
    },
    {
     "name": "stdout",
     "output_type": "stream",
     "text": [
      "insert_data in data generation: \n",
      "\tReal time: 0.74714 seconds\n",
      "\tCPU time: 0.68943 seconds\n",
      "\n",
      "\n"
     ]
    },
    {
     "name": "stderr",
     "output_type": "stream",
     "text": [
      "Deleting tables from db duck: 2it [00:00, 86.80it/s]\n",
      "Deleting tables from db duck: 2it [00:00, 923.04it/s]\n"
     ]
    },
    {
     "name": "stdout",
     "output_type": "stream",
     "text": [
      "\n",
      "Inserting data into duck using method chunk (use_index=True)...\n"
     ]
    },
    {
     "name": "stderr",
     "output_type": "stream",
     "text": [
      "Inserting rows in chunks of 1000 in db duck: 100%|██████████| 1/1 [00:00<00:00,  1.63it/s]\n"
     ]
    },
    {
     "name": "stdout",
     "output_type": "stream",
     "text": [
      "insert_data in data generation: \n",
      "\tReal time: 0.69816 seconds\n",
      "\tCPU time: 0.62231 seconds\n",
      "\n",
      "\n"
     ]
    },
    {
     "name": "stderr",
     "output_type": "stream",
     "text": [
      "Deleting tables from db duck: 2it [00:00, 186.31it/s]\n"
     ]
    },
    {
     "name": "stdout",
     "output_type": "stream",
     "text": [
      "\n",
      "\n",
      "Step 4: Testing select operations\n",
      "Selecting data from psql...\n",
      "select_all_records in data generation: \n",
      "\tReal time: 0.00450 seconds\n",
      "\tCPU time: 0.00178 seconds\n",
      "\n",
      "\n",
      "select_all_records in data generation:  --> Average time in 1 is 0.00 seconds\n",
      "Selecting data from sqlite...\n",
      "select_all_records in data generation: \n",
      "\tReal time: 0.00093 seconds\n",
      "\tCPU time: 0.00092 seconds\n",
      "\n",
      "\n",
      "select_all_records in data generation:  --> Average time in 1 is 0.00 seconds\n",
      "Selecting data from mongo...\n",
      "select_all_records in data generation: \n",
      "\tReal time: 0.00445 seconds\n",
      "\tCPU time: 0.00411 seconds\n",
      "\n",
      "\n",
      "select_all_records in data generation:  --> Average time in 1 is 0.00 seconds\n",
      "Selecting data from duck...\n",
      "select_all_records in data generation: \n",
      "\tReal time: 0.01157 seconds\n",
      "\tCPU time: 0.01197 seconds\n",
      "\n",
      "\n",
      "select_all_records in data generation:  --> Average time in 1 is 0.01 seconds\n",
      "\n",
      "\n",
      "Step 5: Testing update operations\n",
      "Updating data in psql...\n",
      "update_record in data generation: \n",
      "\tReal time: 0.00497 seconds\n",
      "\tCPU time: 0.00140 seconds\n",
      "\n",
      "\n",
      "update_record in data generation:  --> Average time in 1 is 0.00 seconds\n",
      "Updating data in sqlite...\n",
      "update_record in data generation: \n",
      "\tReal time: 0.00063 seconds\n",
      "\tCPU time: 0.00062 seconds\n",
      "\n",
      "\n",
      "update_record in data generation:  --> Average time in 1 is 0.00 seconds\n",
      "Updating data in mongo...\n",
      "update_record in data generation: \n",
      "\tReal time: 0.00475 seconds\n",
      "\tCPU time: 0.00429 seconds\n",
      "\n",
      "\n",
      "update_record in data generation:  --> Average time in 1 is 0.00 seconds\n",
      "Updating data in duck...\n",
      "update_record in data generation: \n",
      "\tReal time: 0.01358 seconds\n",
      "\tCPU time: 0.01386 seconds\n",
      "\n",
      "\n",
      "update_record in data generation:  --> Average time in 1 is 0.01 seconds\n",
      "\n",
      "\n",
      "Running tests with data size: 300\n",
      "----------------------------------------\n",
      "\n",
      "\n",
      "Step 1: Generating users and vehicles...\n"
     ]
    },
    {
     "name": "stderr",
     "output_type": "stream",
     "text": [
      "100%|██████████| 300/300 [00:00<00:00, 11449.52it/s]\n",
      "100%|██████████| 600/600 [00:00<00:00, 12455.43it/s]\n"
     ]
    },
    {
     "name": "stdout",
     "output_type": "stream",
     "text": [
      "\n",
      "\n",
      "Step 2: Testing delete operations\n",
      "Deleting data from psql...\n"
     ]
    },
    {
     "name": "stderr",
     "output_type": "stream",
     "text": [
      "Deleting tables from db psql: 2it [00:00, 1449.81it/s]\n"
     ]
    },
    {
     "name": "stdout",
     "output_type": "stream",
     "text": [
      "delete_data in data generation: \n",
      "\tReal time: 0.00664 seconds\n",
      "\tCPU time: 0.00418 seconds\n",
      "\n",
      "\n"
     ]
    },
    {
     "name": "stderr",
     "output_type": "stream",
     "text": [
      "Deleting tables from db psql: 2it [00:00, 1629.81it/s]\n"
     ]
    },
    {
     "name": "stdout",
     "output_type": "stream",
     "text": [
      "delete_data in data generation:  --> Average time in 1 is 0.01 seconds\n",
      "Deleting data from sqlite...\n"
     ]
    },
    {
     "name": "stderr",
     "output_type": "stream",
     "text": [
      "Deleting tables from db sqlite: 2it [00:00, 555.87it/s]\n"
     ]
    },
    {
     "name": "stdout",
     "output_type": "stream",
     "text": [
      "delete_data in data generation: \n",
      "\tReal time: 0.00550 seconds\n",
      "\tCPU time: 0.00402 seconds\n",
      "\n",
      "\n"
     ]
    },
    {
     "name": "stderr",
     "output_type": "stream",
     "text": [
      "Deleting tables from db sqlite: 2it [00:00, 552.65it/s]\n"
     ]
    },
    {
     "name": "stdout",
     "output_type": "stream",
     "text": [
      "delete_data in data generation:  --> Average time in 1 is 0.01 seconds\n",
      "Deleting data from mongo...\n"
     ]
    },
    {
     "name": "stderr",
     "output_type": "stream",
     "text": [
      "Deleting collections from db mongo: 100%|██████████| 2/2 [00:00<00:00, 875.91it/s]\n"
     ]
    },
    {
     "name": "stdout",
     "output_type": "stream",
     "text": [
      "delete_data in data generation: \n",
      "\tReal time: 0.00649 seconds\n",
      "\tCPU time: 0.00707 seconds\n",
      "\n",
      "\n"
     ]
    },
    {
     "name": "stderr",
     "output_type": "stream",
     "text": [
      "Deleting collections from db mongo: 100%|██████████| 2/2 [00:00<00:00, 1035.12it/s]\n"
     ]
    },
    {
     "name": "stdout",
     "output_type": "stream",
     "text": [
      "delete_data in data generation:  --> Average time in 1 is 0.01 seconds\n",
      "Deleting data from duck...\n"
     ]
    },
    {
     "name": "stderr",
     "output_type": "stream",
     "text": [
      "Deleting tables from db duck: 2it [00:00, 1088.72it/s]\n"
     ]
    },
    {
     "name": "stdout",
     "output_type": "stream",
     "text": [
      "delete_data in data generation: \n",
      "\tReal time: 0.01646 seconds\n",
      "\tCPU time: 0.01779 seconds\n",
      "\n",
      "\n"
     ]
    },
    {
     "name": "stderr",
     "output_type": "stream",
     "text": [
      "Deleting tables from db duck: 2it [00:00, 1054.64it/s]\n"
     ]
    },
    {
     "name": "stdout",
     "output_type": "stream",
     "text": [
      "delete_data in data generation:  --> Average time in 1 is 0.02 seconds\n",
      "\n",
      "\n",
      "Step 3: Testing insert operations\n"
     ]
    },
    {
     "name": "stderr",
     "output_type": "stream",
     "text": [
      "Deleting tables from db psql: 2it [00:00, 1260.88it/s]\n"
     ]
    },
    {
     "name": "stdout",
     "output_type": "stream",
     "text": [
      "\n",
      "Inserting data into psql using method one (use_index=False)...\n"
     ]
    },
    {
     "name": "stderr",
     "output_type": "stream",
     "text": [
      "Inserting rows one by one in db psql: 100%|██████████| 300/300 [00:01<00:00, 158.47it/s]\n"
     ]
    },
    {
     "name": "stdout",
     "output_type": "stream",
     "text": [
      "insert_data in data generation: \n",
      "\tReal time: 1.90235 seconds\n",
      "\tCPU time: 0.52587 seconds\n",
      "\n",
      "\n"
     ]
    },
    {
     "name": "stderr",
     "output_type": "stream",
     "text": [
      "Deleting tables from db psql: 2it [00:00, 206.29it/s]\n",
      "Deleting tables from db psql: 2it [00:00, 651.85it/s]\n"
     ]
    },
    {
     "name": "stdout",
     "output_type": "stream",
     "text": [
      "\n",
      "Inserting data into psql using method one (use_index=True)...\n"
     ]
    },
    {
     "name": "stderr",
     "output_type": "stream",
     "text": [
      "Inserting rows one by one in db psql: 100%|██████████| 300/300 [00:01<00:00, 153.09it/s]\n"
     ]
    },
    {
     "name": "stdout",
     "output_type": "stream",
     "text": [
      "insert_data in data generation: \n",
      "\tReal time: 1.98838 seconds\n",
      "\tCPU time: 0.55753 seconds\n",
      "\n",
      "\n"
     ]
    },
    {
     "name": "stderr",
     "output_type": "stream",
     "text": [
      "Deleting tables from db psql: 2it [00:00, 171.31it/s]\n",
      "Deleting tables from db sqlite: 2it [00:00, 391.95it/s]\n"
     ]
    },
    {
     "name": "stdout",
     "output_type": "stream",
     "text": [
      "\n",
      "Inserting data into sqlite using method one (use_index=False)...\n"
     ]
    },
    {
     "name": "stderr",
     "output_type": "stream",
     "text": [
      "Inserting rows one by one in db sqlite: 100%|██████████| 300/300 [00:00<00:00, 539.40it/s]\n"
     ]
    },
    {
     "name": "stdout",
     "output_type": "stream",
     "text": [
      "insert_data in data generation: \n",
      "\tReal time: 0.57501 seconds\n",
      "\tCPU time: 0.22170 seconds\n",
      "\n",
      "\n"
     ]
    },
    {
     "name": "stderr",
     "output_type": "stream",
     "text": [
      "Deleting tables from db sqlite: 2it [00:00, 583.03it/s]\n",
      "Deleting tables from db sqlite: 2it [00:00, 517.94it/s]\n"
     ]
    },
    {
     "name": "stdout",
     "output_type": "stream",
     "text": [
      "\n",
      "Inserting data into sqlite using method one (use_index=True)...\n"
     ]
    },
    {
     "name": "stderr",
     "output_type": "stream",
     "text": [
      "Inserting rows one by one in db sqlite: 100%|██████████| 300/300 [00:00<00:00, 576.77it/s]\n"
     ]
    },
    {
     "name": "stdout",
     "output_type": "stream",
     "text": [
      "insert_data in data generation: \n",
      "\tReal time: 0.52869 seconds\n",
      "\tCPU time: 0.19910 seconds\n",
      "\n",
      "\n"
     ]
    },
    {
     "name": "stderr",
     "output_type": "stream",
     "text": [
      "Deleting tables from db sqlite: 2it [00:00, 560.29it/s]\n",
      "Deleting collections from db mongo: 100%|██████████| 2/2 [00:00<00:00, 1293.54it/s]\n"
     ]
    },
    {
     "name": "stdout",
     "output_type": "stream",
     "text": [
      "\n",
      "Inserting data into mongo using method one (use_index=False)...\n"
     ]
    },
    {
     "name": "stderr",
     "output_type": "stream",
     "text": [
      "Inserting one by one in MongoDB: 100%|██████████| 300/300 [00:01<00:00, 260.90it/s]\n"
     ]
    },
    {
     "name": "stdout",
     "output_type": "stream",
     "text": [
      "insert_data in data generation: \n",
      "\tReal time: 1.15521 seconds\n",
      "\tCPU time: 1.10000 seconds\n",
      "\n",
      "\n"
     ]
    },
    {
     "name": "stderr",
     "output_type": "stream",
     "text": [
      "Deleting collections from db mongo: 100%|██████████| 2/2 [00:00<00:00, 438.30it/s]\n",
      "Deleting collections from db mongo: 100%|██████████| 2/2 [00:00<00:00, 1195.81it/s]\n"
     ]
    },
    {
     "name": "stdout",
     "output_type": "stream",
     "text": [
      "\n",
      "Inserting data into mongo using method one (use_index=True)...\n"
     ]
    },
    {
     "name": "stderr",
     "output_type": "stream",
     "text": [
      "Inserting one by one in MongoDB: 100%|██████████| 300/300 [00:00<00:00, 303.28it/s]\n"
     ]
    },
    {
     "name": "stdout",
     "output_type": "stream",
     "text": [
      "insert_data in data generation: \n",
      "\tReal time: 1.00552 seconds\n",
      "\tCPU time: 0.93517 seconds\n",
      "\n",
      "\n"
     ]
    },
    {
     "name": "stderr",
     "output_type": "stream",
     "text": [
      "Deleting collections from db mongo: 100%|██████████| 2/2 [00:00<00:00, 363.06it/s]\n",
      "Deleting tables from db duck: 2it [00:00, 944.66it/s]\n"
     ]
    },
    {
     "name": "stdout",
     "output_type": "stream",
     "text": [
      "\n",
      "Inserting data into duck using method one (use_index=False)...\n"
     ]
    },
    {
     "name": "stderr",
     "output_type": "stream",
     "text": [
      "Inserting rows one by one in db duck: 100%|██████████| 300/300 [00:18<00:00, 16.18it/s]\n"
     ]
    },
    {
     "name": "stdout",
     "output_type": "stream",
     "text": [
      "insert_data in data generation: \n",
      "\tReal time: 18.55521 seconds\n",
      "\tCPU time: 17.82398 seconds\n",
      "\n",
      "\n"
     ]
    },
    {
     "name": "stderr",
     "output_type": "stream",
     "text": [
      "Deleting tables from db duck: 2it [00:00, 63.26it/s]\n",
      "Deleting tables from db duck: 2it [00:00, 1097.84it/s]\n"
     ]
    },
    {
     "name": "stdout",
     "output_type": "stream",
     "text": [
      "\n",
      "Inserting data into duck using method one (use_index=True)...\n"
     ]
    },
    {
     "name": "stderr",
     "output_type": "stream",
     "text": [
      "Inserting rows one by one in db duck: 100%|██████████| 300/300 [00:19<00:00, 15.39it/s]\n"
     ]
    },
    {
     "name": "stdout",
     "output_type": "stream",
     "text": [
      "insert_data in data generation: \n",
      "\tReal time: 19.52324 seconds\n",
      "\tCPU time: 18.85421 seconds\n",
      "\n",
      "\n"
     ]
    },
    {
     "name": "stderr",
     "output_type": "stream",
     "text": [
      "Deleting tables from db duck: 2it [00:00, 54.98it/s]\n",
      "Deleting tables from db psql: 2it [00:00, 1349.30it/s]\n"
     ]
    },
    {
     "name": "stdout",
     "output_type": "stream",
     "text": [
      "\n",
      "Inserting data into psql using method at_once (use_index=False)...\n",
      "Inserting rows at_once in db psql\n",
      "insert_data in data generation: \n",
      "\tReal time: 0.09477 seconds\n",
      "\tCPU time: 0.03747 seconds\n",
      "\n",
      "\n"
     ]
    },
    {
     "name": "stderr",
     "output_type": "stream",
     "text": [
      "Deleting tables from db psql: 2it [00:00, 170.31it/s]\n",
      "Deleting tables from db psql: 2it [00:00, 704.21it/s]"
     ]
    },
    {
     "name": "stdout",
     "output_type": "stream",
     "text": [
      "\n",
      "Inserting data into psql using method at_once (use_index=True)...\n"
     ]
    },
    {
     "name": "stderr",
     "output_type": "stream",
     "text": [
      "\n"
     ]
    },
    {
     "name": "stdout",
     "output_type": "stream",
     "text": [
      "Inserting rows at_once in db psql\n",
      "insert_data in data generation: \n",
      "\tReal time: 0.10541 seconds\n",
      "\tCPU time: 0.04312 seconds\n",
      "\n",
      "\n"
     ]
    },
    {
     "name": "stderr",
     "output_type": "stream",
     "text": [
      "Deleting tables from db psql: 2it [00:00, 393.92it/s]\n",
      "Deleting tables from db sqlite: 2it [00:00, 589.09it/s]\n"
     ]
    },
    {
     "name": "stdout",
     "output_type": "stream",
     "text": [
      "\n",
      "Inserting data into sqlite using method at_once (use_index=False)...\n",
      "Inserting rows at_once in db sqlite\n",
      "insert_data in data generation: \n",
      "\tReal time: 0.01131 seconds\n",
      "\tCPU time: 0.01007 seconds\n",
      "\n",
      "\n"
     ]
    },
    {
     "name": "stderr",
     "output_type": "stream",
     "text": [
      "Deleting tables from db sqlite: 2it [00:00, 337.42it/s]\n",
      "Deleting tables from db sqlite: 2it [00:00, 530.82it/s]\n"
     ]
    },
    {
     "name": "stdout",
     "output_type": "stream",
     "text": [
      "\n",
      "Inserting data into sqlite using method at_once (use_index=True)...\n",
      "Inserting rows at_once in db sqlite\n",
      "insert_data in data generation: \n",
      "\tReal time: 0.01377 seconds\n",
      "\tCPU time: 0.01252 seconds\n",
      "\n",
      "\n"
     ]
    },
    {
     "name": "stderr",
     "output_type": "stream",
     "text": [
      "Deleting tables from db sqlite: 2it [00:00, 478.42it/s]\n",
      "Deleting collections from db mongo: 100%|██████████| 2/2 [00:00<00:00, 1082.96it/s]\n"
     ]
    },
    {
     "name": "stdout",
     "output_type": "stream",
     "text": [
      "\n",
      "Inserting data into mongo using method at_once (use_index=False)...\n"
     ]
    },
    {
     "name": "stderr",
     "output_type": "stream",
     "text": [
      "Inserting at once in MongoDB: 100%|██████████| 1/1 [00:00<00:00, 93.65it/s]\n"
     ]
    },
    {
     "name": "stdout",
     "output_type": "stream",
     "text": [
      "insert_data in data generation: \n",
      "\tReal time: 0.01988 seconds\n",
      "\tCPU time: 0.01842 seconds\n",
      "\n",
      "\n"
     ]
    },
    {
     "name": "stderr",
     "output_type": "stream",
     "text": [
      "Deleting collections from db mongo: 100%|██████████| 2/2 [00:00<00:00, 276.24it/s]\n",
      "Deleting collections from db mongo: 100%|██████████| 2/2 [00:00<00:00, 668.63it/s]\n"
     ]
    },
    {
     "name": "stdout",
     "output_type": "stream",
     "text": [
      "\n",
      "Inserting data into mongo using method at_once (use_index=True)...\n"
     ]
    },
    {
     "name": "stderr",
     "output_type": "stream",
     "text": [
      "Inserting at once in MongoDB: 100%|██████████| 1/1 [00:00<00:00, 85.81it/s]\n"
     ]
    },
    {
     "name": "stdout",
     "output_type": "stream",
     "text": [
      "insert_data in data generation: \n",
      "\tReal time: 0.03822 seconds\n",
      "\tCPU time: 0.02509 seconds\n",
      "\n",
      "\n"
     ]
    },
    {
     "name": "stderr",
     "output_type": "stream",
     "text": [
      "Deleting collections from db mongo: 100%|██████████| 2/2 [00:00<00:00, 115.29it/s]\n",
      "Deleting tables from db duck: 2it [00:00, 898.81it/s]\n"
     ]
    },
    {
     "name": "stdout",
     "output_type": "stream",
     "text": [
      "\n",
      "Inserting data into duck using method at_once (use_index=False)...\n",
      "Inserting rows at_once in db duck\n",
      "insert_data in data generation: \n",
      "\tReal time: 1.28000 seconds\n",
      "\tCPU time: 1.19044 seconds\n",
      "\n",
      "\n"
     ]
    },
    {
     "name": "stderr",
     "output_type": "stream",
     "text": [
      "Deleting tables from db duck: 2it [00:00, 96.04it/s]\n",
      "Deleting tables from db duck: 2it [00:00, 993.20it/s]"
     ]
    },
    {
     "name": "stdout",
     "output_type": "stream",
     "text": [
      "\n",
      "Inserting data into duck using method at_once (use_index=True)...\n",
      "Inserting rows at_once in db duck\n"
     ]
    },
    {
     "name": "stderr",
     "output_type": "stream",
     "text": [
      "\n"
     ]
    },
    {
     "name": "stdout",
     "output_type": "stream",
     "text": [
      "insert_data in data generation: \n",
      "\tReal time: 1.22933 seconds\n",
      "\tCPU time: 1.13512 seconds\n",
      "\n",
      "\n"
     ]
    },
    {
     "name": "stderr",
     "output_type": "stream",
     "text": [
      "Deleting tables from db duck: 2it [00:00, 96.39it/s]\n",
      "Deleting tables from db psql: 2it [00:00, 1538.07it/s]\n"
     ]
    },
    {
     "name": "stdout",
     "output_type": "stream",
     "text": [
      "\n",
      "Inserting data into psql using method chunk (use_index=False)...\n"
     ]
    },
    {
     "name": "stderr",
     "output_type": "stream",
     "text": [
      "Inserting rows in chunks of 1000 in db psql: 100%|██████████| 1/1 [00:00<00:00, 30.87it/s]\n"
     ]
    },
    {
     "name": "stdout",
     "output_type": "stream",
     "text": [
      "insert_data in data generation: \n",
      "\tReal time: 0.04324 seconds\n",
      "\tCPU time: 0.01944 seconds\n",
      "\n",
      "\n"
     ]
    },
    {
     "name": "stderr",
     "output_type": "stream",
     "text": [
      "Deleting tables from db psql: 2it [00:00, 342.20it/s]\n",
      "Deleting tables from db psql: 2it [00:00, 1730.68it/s]\n"
     ]
    },
    {
     "name": "stdout",
     "output_type": "stream",
     "text": [
      "\n",
      "Inserting data into psql using method chunk (use_index=True)...\n"
     ]
    },
    {
     "name": "stderr",
     "output_type": "stream",
     "text": [
      "Inserting rows in chunks of 1000 in db psql: 100%|██████████| 1/1 [00:00<00:00, 25.07it/s]\n"
     ]
    },
    {
     "name": "stdout",
     "output_type": "stream",
     "text": [
      "insert_data in data generation: \n",
      "\tReal time: 0.05935 seconds\n",
      "\tCPU time: 0.02384 seconds\n",
      "\n",
      "\n"
     ]
    },
    {
     "name": "stderr",
     "output_type": "stream",
     "text": [
      "Deleting tables from db psql: 2it [00:00, 343.78it/s]\n",
      "Deleting tables from db sqlite: 2it [00:00, 338.33it/s]"
     ]
    },
    {
     "name": "stdout",
     "output_type": "stream",
     "text": [
      "\n",
      "Inserting data into sqlite using method chunk (use_index=False)...\n"
     ]
    },
    {
     "name": "stderr",
     "output_type": "stream",
     "text": [
      "\n",
      "Inserting rows in chunks of 1000 in db sqlite: 100%|██████████| 1/1 [00:00<00:00, 351.84it/s]\n"
     ]
    },
    {
     "name": "stdout",
     "output_type": "stream",
     "text": [
      "insert_data in data generation: \n",
      "\tReal time: 0.01515 seconds\n",
      "\tCPU time: 0.01472 seconds\n",
      "\n",
      "\n"
     ]
    },
    {
     "name": "stderr",
     "output_type": "stream",
     "text": [
      "Deleting tables from db sqlite: 2it [00:00, 384.92it/s]\n",
      "Deleting tables from db sqlite: 2it [00:00, 487.74it/s]\n"
     ]
    },
    {
     "name": "stdout",
     "output_type": "stream",
     "text": [
      "\n",
      "Inserting data into sqlite using method chunk (use_index=True)...\n"
     ]
    },
    {
     "name": "stderr",
     "output_type": "stream",
     "text": [
      "Inserting rows in chunks of 1000 in db sqlite: 100%|██████████| 1/1 [00:00<00:00, 164.22it/s]\n"
     ]
    },
    {
     "name": "stdout",
     "output_type": "stream",
     "text": [
      "insert_data in data generation: \n",
      "\tReal time: 0.03193 seconds\n",
      "\tCPU time: 0.02105 seconds\n",
      "\n",
      "\n"
     ]
    },
    {
     "name": "stderr",
     "output_type": "stream",
     "text": [
      "Deleting tables from db sqlite: 2it [00:00, 135.58it/s]\n",
      "Deleting collections from db mongo: 100%|██████████| 2/2 [00:00<00:00, 526.13it/s]\n"
     ]
    },
    {
     "name": "stdout",
     "output_type": "stream",
     "text": [
      "\n",
      "Inserting data into mongo using method chunk (use_index=False)...\n"
     ]
    },
    {
     "name": "stderr",
     "output_type": "stream",
     "text": [
      "Inserting in chunks of 1000 in MongoDB: 100%|██████████| 1/1 [00:00<00:00, 62.87it/s]\n"
     ]
    },
    {
     "name": "stdout",
     "output_type": "stream",
     "text": [
      "insert_data in data generation: \n",
      "\tReal time: 0.02412 seconds\n",
      "\tCPU time: 0.01568 seconds\n",
      "\n",
      "\n"
     ]
    },
    {
     "name": "stderr",
     "output_type": "stream",
     "text": [
      "Deleting collections from db mongo: 100%|██████████| 2/2 [00:00<00:00, 340.81it/s]\n",
      "Deleting collections from db mongo: 100%|██████████| 2/2 [00:00<00:00, 771.51it/s]\n"
     ]
    },
    {
     "name": "stdout",
     "output_type": "stream",
     "text": [
      "\n",
      "Inserting data into mongo using method chunk (use_index=True)...\n"
     ]
    },
    {
     "name": "stderr",
     "output_type": "stream",
     "text": [
      "Inserting in chunks of 1000 in MongoDB: 100%|██████████| 1/1 [00:00<00:00, 155.82it/s]\n"
     ]
    },
    {
     "name": "stdout",
     "output_type": "stream",
     "text": [
      "insert_data in data generation: \n",
      "\tReal time: 0.02278 seconds\n",
      "\tCPU time: 0.02073 seconds\n",
      "\n",
      "\n"
     ]
    },
    {
     "name": "stderr",
     "output_type": "stream",
     "text": [
      "Deleting collections from db mongo: 100%|██████████| 2/2 [00:00<00:00, 390.86it/s]\n",
      "Deleting tables from db duck: 2it [00:00, 981.12it/s]\n"
     ]
    },
    {
     "name": "stdout",
     "output_type": "stream",
     "text": [
      "\n",
      "Inserting data into duck using method chunk (use_index=False)...\n"
     ]
    },
    {
     "name": "stderr",
     "output_type": "stream",
     "text": [
      "Inserting rows in chunks of 1000 in db duck: 100%|██████████| 1/1 [00:01<00:00,  1.18s/it]\n"
     ]
    },
    {
     "name": "stdout",
     "output_type": "stream",
     "text": [
      "insert_data in data generation: \n",
      "\tReal time: 1.25547 seconds\n",
      "\tCPU time: 1.15950 seconds\n",
      "\n",
      "\n"
     ]
    },
    {
     "name": "stderr",
     "output_type": "stream",
     "text": [
      "Deleting tables from db duck: 2it [00:00, 42.01it/s]\n",
      "Deleting tables from db duck: 2it [00:00, 516.73it/s]\n"
     ]
    },
    {
     "name": "stdout",
     "output_type": "stream",
     "text": [
      "\n",
      "Inserting data into duck using method chunk (use_index=True)...\n"
     ]
    },
    {
     "name": "stderr",
     "output_type": "stream",
     "text": [
      "Inserting rows in chunks of 1000 in db duck: 100%|██████████| 1/1 [00:01<00:00,  1.08s/it]\n"
     ]
    },
    {
     "name": "stdout",
     "output_type": "stream",
     "text": [
      "insert_data in data generation: \n",
      "\tReal time: 1.15989 seconds\n",
      "\tCPU time: 1.02890 seconds\n",
      "\n",
      "\n"
     ]
    },
    {
     "name": "stderr",
     "output_type": "stream",
     "text": [
      "Deleting tables from db duck: 2it [00:00, 93.94it/s]\n"
     ]
    },
    {
     "name": "stdout",
     "output_type": "stream",
     "text": [
      "\n",
      "\n",
      "Step 4: Testing select operations\n",
      "Selecting data from psql...\n",
      "select_all_records in data generation: \n",
      "\tReal time: 0.00382 seconds\n",
      "\tCPU time: 0.00187 seconds\n",
      "\n",
      "\n",
      "select_all_records in data generation:  --> Average time in 1 is 0.00 seconds\n",
      "Selecting data from sqlite...\n",
      "select_all_records in data generation: \n",
      "\tReal time: 0.00043 seconds\n",
      "\tCPU time: 0.00043 seconds\n",
      "\n",
      "\n",
      "select_all_records in data generation:  --> Average time in 1 is 0.00 seconds\n",
      "Selecting data from mongo...\n",
      "select_all_records in data generation: \n",
      "\tReal time: 0.00407 seconds\n",
      "\tCPU time: 0.00364 seconds\n",
      "\n",
      "\n",
      "select_all_records in data generation:  --> Average time in 1 is 0.00 seconds\n",
      "Selecting data from duck...\n",
      "select_all_records in data generation: \n",
      "\tReal time: 0.01255 seconds\n",
      "\tCPU time: 0.01269 seconds\n",
      "\n",
      "\n",
      "select_all_records in data generation:  --> Average time in 1 is 0.01 seconds\n",
      "\n",
      "\n",
      "Step 5: Testing update operations\n",
      "Updating data in psql...\n",
      "update_record in data generation: \n",
      "\tReal time: 0.00445 seconds\n",
      "\tCPU time: 0.00127 seconds\n",
      "\n",
      "\n",
      "update_record in data generation:  --> Average time in 1 is 0.00 seconds\n",
      "Updating data in sqlite...\n",
      "update_record in data generation: \n",
      "\tReal time: 0.00036 seconds\n",
      "\tCPU time: 0.00036 seconds\n",
      "\n",
      "\n",
      "update_record in data generation:  --> Average time in 1 is 0.00 seconds\n",
      "Updating data in mongo...\n",
      "update_record in data generation: \n",
      "\tReal time: 0.00364 seconds\n",
      "\tCPU time: 0.00333 seconds\n",
      "\n",
      "\n",
      "update_record in data generation:  --> Average time in 1 is 0.00 seconds\n",
      "Updating data in duck...\n",
      "update_record in data generation: \n",
      "\tReal time: 0.01276 seconds\n",
      "\tCPU time: 0.01368 seconds\n",
      "\n",
      "\n",
      "update_record in data generation:  --> Average time in 1 is 0.01 seconds\n",
      "------------------------------------------------------------------------------------------\n"
     ]
    },
    {
     "ename": "KeyError",
     "evalue": "'memory'",
     "output_type": "error",
     "traceback": [
      "\u001b[0;31m---------------------------------------------------------------------------\u001b[0m",
      "\u001b[0;31mKeyError\u001b[0m                                  Traceback (most recent call last)",
      "File \u001b[0;32m/usr/lib64/python3.12/site-packages/pandas/core/indexes/base.py:3805\u001b[0m, in \u001b[0;36mIndex.get_loc\u001b[0;34m(self, key)\u001b[0m\n\u001b[1;32m   3804\u001b[0m \u001b[38;5;28;01mtry\u001b[39;00m:\n\u001b[0;32m-> 3805\u001b[0m     \u001b[38;5;28;01mreturn\u001b[39;00m \u001b[38;5;28;43mself\u001b[39;49m\u001b[38;5;241;43m.\u001b[39;49m\u001b[43m_engine\u001b[49m\u001b[38;5;241;43m.\u001b[39;49m\u001b[43mget_loc\u001b[49m\u001b[43m(\u001b[49m\u001b[43mcasted_key\u001b[49m\u001b[43m)\u001b[49m\n\u001b[1;32m   3806\u001b[0m \u001b[38;5;28;01mexcept\u001b[39;00m \u001b[38;5;167;01mKeyError\u001b[39;00m \u001b[38;5;28;01mas\u001b[39;00m err:\n",
      "File \u001b[0;32mindex.pyx:167\u001b[0m, in \u001b[0;36mpandas._libs.index.IndexEngine.get_loc\u001b[0;34m()\u001b[0m\n",
      "File \u001b[0;32mindex.pyx:196\u001b[0m, in \u001b[0;36mpandas._libs.index.IndexEngine.get_loc\u001b[0;34m()\u001b[0m\n",
      "File \u001b[0;32mpandas/_libs/hashtable_class_helper.pxi:7081\u001b[0m, in \u001b[0;36mpandas._libs.hashtable.PyObjectHashTable.get_item\u001b[0;34m()\u001b[0m\n",
      "File \u001b[0;32mpandas/_libs/hashtable_class_helper.pxi:7089\u001b[0m, in \u001b[0;36mpandas._libs.hashtable.PyObjectHashTable.get_item\u001b[0;34m()\u001b[0m\n",
      "\u001b[0;31mKeyError\u001b[0m: 'memory'",
      "\nThe above exception was the direct cause of the following exception:\n",
      "\u001b[0;31mKeyError\u001b[0m                                  Traceback (most recent call last)",
      "Cell \u001b[0;32mIn[12], line 6\u001b[0m\n\u001b[1;32m      4\u001b[0m \u001b[38;5;28;01mif\u001b[39;00m flag:\n\u001b[1;32m      5\u001b[0m     prov \u001b[38;5;241m=\u001b[39m MasterProvider()\n\u001b[0;32m----> 6\u001b[0m     res \u001b[38;5;241m=\u001b[39m \u001b[43mtest_db_operations\u001b[49m\u001b[43m(\u001b[49m\u001b[43m[\u001b[49m\u001b[38;5;241;43m100\u001b[39;49m\u001b[43m,\u001b[49m\u001b[43m \u001b[49m\u001b[38;5;241;43m200\u001b[39;49m\u001b[43m,\u001b[49m\u001b[43m \u001b[49m\u001b[38;5;241;43m300\u001b[39;49m\u001b[43m]\u001b[49m\u001b[43m,\u001b[49m\u001b[43m \u001b[49m\u001b[43mprov\u001b[49m\u001b[43m,\u001b[49m\u001b[43m \u001b[49m\u001b[43miters\u001b[49m\u001b[38;5;241;43m=\u001b[39;49m\u001b[38;5;241;43m1\u001b[39;49m\u001b[43m)\u001b[49m\n\u001b[1;32m      7\u001b[0m     fig \u001b[38;5;241m=\u001b[39m plot_test_db_operations(res)\n\u001b[1;32m      8\u001b[0m     fig\u001b[38;5;241m.\u001b[39mshow()\n",
      "File \u001b[0;32m~/Desktop/bbdd-tVersion/modules/testing.py:293\u001b[0m, in \u001b[0;36mtest_db_operations\u001b[0;34m(data_sizes, provider, iters, databases)\u001b[0m\n\u001b[1;32m    290\u001b[0m df\u001b[38;5;241m.\u001b[39mdrop(columns\u001b[38;5;241m=\u001b[39m[\u001b[38;5;124m'\u001b[39m\u001b[38;5;124mtime\u001b[39m\u001b[38;5;124m'\u001b[39m], inplace\u001b[38;5;241m=\u001b[39m\u001b[38;5;28;01mTrue\u001b[39;00m)\n\u001b[1;32m    292\u001b[0m \u001b[38;5;66;03m# En este punto, no usaremos 'memory' para definir 'data_size', sino que ya lo tenemos en 'data_size'.\u001b[39;00m\n\u001b[0;32m--> 293\u001b[0m df[\u001b[38;5;124m'\u001b[39m\u001b[38;5;124mmemory_used\u001b[39m\u001b[38;5;124m'\u001b[39m] \u001b[38;5;241m=\u001b[39m \u001b[43mdf\u001b[49m\u001b[43m[\u001b[49m\u001b[38;5;124;43m'\u001b[39;49m\u001b[38;5;124;43mmemory\u001b[39;49m\u001b[38;5;124;43m'\u001b[39;49m\u001b[43m]\u001b[49m\u001b[38;5;241m.\u001b[39mapply(\u001b[38;5;28;01mlambda\u001b[39;00m x: x[\u001b[38;5;241m0\u001b[39m] \u001b[38;5;28;01mif\u001b[39;00m x \u001b[38;5;129;01mis\u001b[39;00m \u001b[38;5;129;01mnot\u001b[39;00m \u001b[38;5;28;01mNone\u001b[39;00m \u001b[38;5;28;01melse\u001b[39;00m \u001b[38;5;241m0\u001b[39m)\n\u001b[1;32m    295\u001b[0m \u001b[38;5;66;03m# Aquí ya no necesitamos reasignar el valor de data_size\u001b[39;00m\n\u001b[1;32m    296\u001b[0m \u001b[38;5;28;01mreturn\u001b[39;00m df\n",
      "File \u001b[0;32m/usr/lib64/python3.12/site-packages/pandas/core/frame.py:4090\u001b[0m, in \u001b[0;36mDataFrame.__getitem__\u001b[0;34m(self, key)\u001b[0m\n\u001b[1;32m   4088\u001b[0m \u001b[38;5;28;01mif\u001b[39;00m \u001b[38;5;28mself\u001b[39m\u001b[38;5;241m.\u001b[39mcolumns\u001b[38;5;241m.\u001b[39mnlevels \u001b[38;5;241m>\u001b[39m \u001b[38;5;241m1\u001b[39m:\n\u001b[1;32m   4089\u001b[0m     \u001b[38;5;28;01mreturn\u001b[39;00m \u001b[38;5;28mself\u001b[39m\u001b[38;5;241m.\u001b[39m_getitem_multilevel(key)\n\u001b[0;32m-> 4090\u001b[0m indexer \u001b[38;5;241m=\u001b[39m \u001b[38;5;28;43mself\u001b[39;49m\u001b[38;5;241;43m.\u001b[39;49m\u001b[43mcolumns\u001b[49m\u001b[38;5;241;43m.\u001b[39;49m\u001b[43mget_loc\u001b[49m\u001b[43m(\u001b[49m\u001b[43mkey\u001b[49m\u001b[43m)\u001b[49m\n\u001b[1;32m   4091\u001b[0m \u001b[38;5;28;01mif\u001b[39;00m is_integer(indexer):\n\u001b[1;32m   4092\u001b[0m     indexer \u001b[38;5;241m=\u001b[39m [indexer]\n",
      "File \u001b[0;32m/usr/lib64/python3.12/site-packages/pandas/core/indexes/base.py:3812\u001b[0m, in \u001b[0;36mIndex.get_loc\u001b[0;34m(self, key)\u001b[0m\n\u001b[1;32m   3807\u001b[0m     \u001b[38;5;28;01mif\u001b[39;00m \u001b[38;5;28misinstance\u001b[39m(casted_key, \u001b[38;5;28mslice\u001b[39m) \u001b[38;5;129;01mor\u001b[39;00m (\n\u001b[1;32m   3808\u001b[0m         \u001b[38;5;28misinstance\u001b[39m(casted_key, abc\u001b[38;5;241m.\u001b[39mIterable)\n\u001b[1;32m   3809\u001b[0m         \u001b[38;5;129;01mand\u001b[39;00m \u001b[38;5;28many\u001b[39m(\u001b[38;5;28misinstance\u001b[39m(x, \u001b[38;5;28mslice\u001b[39m) \u001b[38;5;28;01mfor\u001b[39;00m x \u001b[38;5;129;01min\u001b[39;00m casted_key)\n\u001b[1;32m   3810\u001b[0m     ):\n\u001b[1;32m   3811\u001b[0m         \u001b[38;5;28;01mraise\u001b[39;00m InvalidIndexError(key)\n\u001b[0;32m-> 3812\u001b[0m     \u001b[38;5;28;01mraise\u001b[39;00m \u001b[38;5;167;01mKeyError\u001b[39;00m(key) \u001b[38;5;28;01mfrom\u001b[39;00m \u001b[38;5;21;01merr\u001b[39;00m\n\u001b[1;32m   3813\u001b[0m \u001b[38;5;28;01mexcept\u001b[39;00m \u001b[38;5;167;01mTypeError\u001b[39;00m:\n\u001b[1;32m   3814\u001b[0m     \u001b[38;5;66;03m# If we have a listlike key, _check_indexing_error will raise\u001b[39;00m\n\u001b[1;32m   3815\u001b[0m     \u001b[38;5;66;03m#  InvalidIndexError. Otherwise we fall through and re-raise\u001b[39;00m\n\u001b[1;32m   3816\u001b[0m     \u001b[38;5;66;03m#  the TypeError.\u001b[39;00m\n\u001b[1;32m   3817\u001b[0m     \u001b[38;5;28mself\u001b[39m\u001b[38;5;241m.\u001b[39m_check_indexing_error(key)\n",
      "\u001b[0;31mKeyError\u001b[0m: 'memory'"
     ]
    }
   ],
   "source": [
    "from modules.testing import test_db_operations, plot_test_db_operations\n",
    "\n",
    "flag = True\n",
    "if flag:\n",
    "    prov = MasterProvider()\n",
    "    res = test_db_operations([100, 200], prov, iters=1)\n",
    "    fig = plot_test_db_operations(res)\n",
    "    fig.show()"
   ]
  },
  {
   "cell_type": "code",
   "execution_count": null,
   "metadata": {},
   "outputs": [],
   "source": [
    "res"
   ]
  },
  {
   "cell_type": "code",
   "execution_count": null,
   "metadata": {},
   "outputs": [],
   "source": [
    "fig.show()"
   ]
  },
  {
   "cell_type": "markdown",
   "metadata": {},
   "source": [
    "#### **Pruebas de caché sin índices**"
   ]
  },
  {
   "cell_type": "code",
   "execution_count": null,
   "metadata": {},
   "outputs": [],
   "source": [
    "from modules.testing import run_tests_cache, plot_tests_cache\n",
    "from modules.cache_implementation import SimpleCache, base, serde\n",
    "from modules.connection import *\n",
    "from modules.util import JOIN_QUERIES\n",
    "from modules.data_generation import MasterProvider\n",
    "\n",
    "flag = True\n",
    "if flag:\n",
    "    _params = [PSQL_PARAMS, SQLITE_PARAMS, MONGO_PARAMS, DUCK_PARAMS]\n",
    "    prov = MasterProvider()\n",
    "    custom_cache = SimpleCache()\n",
    "    mem_cache = base.Client(('localhost', 11211), serde=serde.pickle_serde)\n",
    "    sizes = [10]\n",
    "\n",
    "    print('Running tests with custom cache on join queries\\n')\n",
    "    a = run_tests_cache(\n",
    "        db_names=['psql','sqlite', 'mongo', 'duck'], \n",
    "        params=_params, \n",
    "        sizes=sizes,\n",
    "        provider=prov, \n",
    "        cache=custom_cache,\n",
    "        queries=JOIN_QUERIES\n",
    "    )\n",
    "\n",
    "\n",
    "    \n",
    "    fig = plot_tests_cache(a)\n",
    "    fig.show()\n",
    "\n",
    "    print('\\n\\nRunning tests with Memcached on join queries\\n')\n",
    "    run_tests_cache(\n",
    "        db_names=['psql', 'sqlite', 'mongo', 'duck'], \n",
    "        params=_params, \n",
    "        sizes=sizes,\n",
    "        provider=prov, \n",
    "        cache=mem_cache,\n",
    "        queries=JOIN_QUERIES\n",
    "    )\n"
   ]
  },
  {
   "cell_type": "code",
   "execution_count": null,
   "metadata": {},
   "outputs": [],
   "source": [
    "from modules.util import PK_QUERIES, SELECT_ALL_QUERIES\n",
    "from modules.connection import *\n",
    "from modules.data_generation import MasterProvider\n",
    "from modules.cache_implementation import SimpleCache, base, serde\n",
    "from modules.testing import run_tests_cache\n",
    "\n",
    "flag = True\n",
    "if flag:\n",
    "    _params = [PSQL_PARAMS, SQLITE_PARAMS, MONGO_PARAMS, DUCK_PARAMS]\n",
    "    prov = MasterProvider()\n",
    "    custom_cache = SimpleCache()\n",
    "    mem_cache = base.Client(('localhost', 11211), serde=serde.pickle_serde)  # Usando Pickle para Memcached\n",
    "    sizes = [10, 20]\n",
    "\n",
    "    print('Running tests with custom cache on PK queries selecting one at the time\\n')\n",
    "    run_tests_cache(\n",
    "        db_names=['psql', 'sqlite', 'mongo', 'duck'], \n",
    "        params=[PSQL_PARAMS, SQLITE_PARAMS, MONGO_PARAMS3, DUCK_PARAMS], \n",
    "        sizes=sizes,\n",
    "        provider=prov, \n",
    "        cache=custom_cache,\n",
    "        queries=PK_QUERIES,\n",
    "        method='one_each'\n",
    "    )\n",
    "\n",
    "    print('Running tests with custom cache on PK queries selecting all at once\\n')\n",
    "    run_tests_cache(\n",
    "        db_names=['psql', 'sqlite', 'mongo', 'duck'], \n",
    "        params=[PSQL_PARAMS, SQLITE_PARAMS, MONGO_PARAMS3, DUCK_PARAMS], \n",
    "        sizes=sizes,\n",
    "        provider=prov, \n",
    "        cache=custom_cache,\n",
    "        queries=PK_QUERIES,\n",
    "        method='at_once'\n",
    "    )\n",
    "\n",
    "    print('\\n\\nRunning tests with Memcached on PK queries selecting one at the time\\n')\n",
    "    run_tests_cache(\n",
    "        db_names=['psql', 'sqlite', 'mongo', 'duck'], \n",
    "        params=[PSQL_PARAMS, SQLITE_PARAMS, MONGO_PARAMS3, DUCK_PARAMS], \n",
    "        sizes=sizes,\n",
    "        provider=prov, \n",
    "        cache=mem_cache,\n",
    "        queries=PK_QUERIES,\n",
    "        method='one_each'\n",
    "    )\n",
    "\n",
    "    print('\\n\\nRunning tests with Memcached on PK queries selecting all at once\\n')\n",
    "    run_tests_cache(\n",
    "        db_names=['psql', 'sqlite', 'mongo', 'duck'], \n",
    "        params=[PSQL_PARAMS, SQLITE_PARAMS, MONGO_PARAMS3, DUCK_PARAMS], \n",
    "        sizes=sizes,\n",
    "        provider=prov, \n",
    "        cache=mem_cache,\n",
    "        queries=PK_QUERIES,\n",
    "        method='at_once'\n",
    "    )\n",
    "\n",
    "\n",
    "    print('Running tests with custom cache on SELECT_ALL queries selecting one at the time\\n')\n",
    "    run_tests_cache(\n",
    "        db_names=['psql', 'sqlite', 'mongo', 'duck'], \n",
    "        params=_params, \n",
    "        sizes=sizes,\n",
    "        provider=prov, \n",
    "        cache=custom_cache,\n",
    "        queries=SELECT_ALL_QUERIES,\n",
    "        method='one_each'\n",
    "    )\n",
    "\n",
    "    print('Running tests with custom cache on SELECT_ALL queries selecting all at once\\n')\n",
    "    run_tests_cache(\n",
    "        db_names=['psql', 'sqlite', 'mongo', 'duck'], \n",
    "        params=_params, \n",
    "        sizes=sizes,\n",
    "        provider=prov, \n",
    "        cache=custom_cache,\n",
    "        queries=SELECT_ALL_QUERIES,\n",
    "        method='at_once'\n",
    "    )\n",
    "\n",
    "    print('\\n\\nRunning tests with Memcached on SELECT_ALL queries selecting one at the time\\n')\n",
    "    run_tests_cache(\n",
    "        db_names=['psql', 'sqlite', 'mongo', 'duck'], \n",
    "        params=_params, \n",
    "        sizes=sizes,\n",
    "        provider=prov, \n",
    "        cache=mem_cache,\n",
    "        queries=SELECT_ALL_QUERIES,\n",
    "        method='one_each'\n",
    "    )\n",
    "\n",
    "    print('\\n\\nRunning tests with Memcached on SELECT_ALL queries selecting all at once\\n')\n",
    "    run_tests_cache(\n",
    "        db_names=['psql', 'sqlite', 'mongo', 'duck'], \n",
    "        params=_params, \n",
    "        sizes=sizes,\n",
    "        provider=prov, \n",
    "        cache=mem_cache,\n",
    "        queries=SELECT_ALL_QUERIES,\n",
    "        method='at_once'\n",
    "    )\n"
   ]
  },
  {
   "cell_type": "markdown",
   "metadata": {},
   "source": [
    "#### **Pruebas de caché con índices**"
   ]
  },
  {
   "cell_type": "markdown",
   "metadata": {},
   "source": [
    "Borramos y reinsertamos pero creando índices"
   ]
  },
  {
   "cell_type": "code",
   "execution_count": null,
   "metadata": {},
   "outputs": [],
   "source": [
    "delete_data('psql', PSQL_PARAMS, ['usuarios', 'vehiculos'])\n",
    "delete_data('sqlite', SQLITE_PARAMS, ['usuarios', 'vehiculos'])\n",
    "delete_data('mongo', MONGO_PARAMS, ['usuarios', 'vehiculos', 'mix'])\n",
    "delete_data('duck', DUCK_PARAMS, ['usuarios', 'vehiculos'])"
   ]
  },
  {
   "cell_type": "code",
   "execution_count": null,
   "metadata": {},
   "outputs": [],
   "source": [
    "insert_data('psql', PSQL_PARAMS, 'out/csv/users.csv', 'usuarios')\n",
    "insert_data('psql', PSQL_PARAMS, 'out/csv/vehicles.csv', 'vehiculos')\n",
    "\n",
    "insert_data('sqlite', SQLITE_PARAMS, 'out/csv/users.csv', 'usuarios')\n",
    "insert_data('sqlite', SQLITE_PARAMS, 'out/csv/vehicles.csv', 'vehiculos')\n",
    "\n",
    "insert_data('mongo', MONGO_PARAMS, 'out/json/users.json', 'usuarios')\n",
    "insert_data('mongo', MONGO_PARAMS, 'out/json/vehicles.json', 'vehiculos')\n",
    "insert_data('mongo', MONGO_PARAMS, 'out/json/mix.json', 'mix')\n",
    "\n",
    "insert_data('duck', DUCK_PARAMS, 'out/json/users.json', 'usuarios', batch_size=10000)\n",
    "insert_data('duck', DUCK_PARAMS, 'out/json/vehicles.json', 'vehiculos', batch_size=10000) # duckdb is slow!"
   ]
  },
  {
   "cell_type": "code",
   "execution_count": null,
   "metadata": {},
   "outputs": [],
   "source": [
    "from modules.cache_implementation import SimpleCache, base, serde\n",
    "from modules.connection import *\n",
    "from modules.util import JOIN_QUERIES\n",
    "from modules.data_generation import MasterProvider\n",
    "\n",
    "flag = True\n",
    "if flag:\n",
    "    _params = [PSQL_PARAMS, SQLITE_PARAMS, MONGO_PARAMS, DUCK_PARAMS]\n",
    "    prov = MasterProvider()\n",
    "    custom_cache = SimpleCache()\n",
    "    mem_cache = base.Client(('localhost', 11211), serde=serde.pickle_serde)\n",
    "    sizes = [10, 20]\n",
    "\n",
    "    print('Running tests with custom cache on join queries\\n')\n",
    "    a = run_tests_cache(\n",
    "        db_names=['psql','sqlite', 'mongo', 'duck'], \n",
    "        params=_params, \n",
    "        sizes=sizes,\n",
    "        provider=prov, \n",
    "        cache=custom_cache,\n",
    "        queries=JOIN_QUERIES,\n",
    "        index=True\n",
    "    )\n",
    "\n",
    "    print('\\n\\nRunning tests with Memcached on join queries\\n')\n",
    "    run_tests_cache(\n",
    "        db_names=['psql', 'sqlite', 'mongo', 'duck'], \n",
    "        params=_params, \n",
    "        sizes=sizes,\n",
    "        provider=prov, \n",
    "        cache=mem_cache,\n",
    "        queries=JOIN_QUERIES,\n",
    "        index=True\n",
    "    )\n",
    "\n",
    "    print('Running tests with custom cache on PK queries selecting one at the time\\n')\n",
    "    run_tests_cache(\n",
    "        db_names=['psql', 'sqlite', 'mongo', 'duck'], \n",
    "        params=[PSQL_PARAMS, SQLITE_PARAMS, MONGO_PARAMS3, DUCK_PARAMS], \n",
    "        sizes=sizes,\n",
    "        provider=prov, \n",
    "        cache=custom_cache,\n",
    "        queries=PK_QUERIES,\n",
    "        method='one_each',\n",
    "        index=True\n",
    "    )\n",
    "\n",
    "    print('Running tests with custom cache on PK queries selecting all at once\\n')\n",
    "    run_tests_cache(\n",
    "        db_names=['psql', 'sqlite', 'mongo', 'duck'], \n",
    "        params=[PSQL_PARAMS, SQLITE_PARAMS, MONGO_PARAMS3, DUCK_PARAMS], \n",
    "        sizes=sizes,\n",
    "        provider=prov, \n",
    "        cache=custom_cache,\n",
    "        queries=PK_QUERIES,\n",
    "        method='at_once',\n",
    "        index=True\n",
    "    )\n",
    "\n",
    "    print('\\n\\nRunning tests with Memcached on PK queries selecting one at the time\\n')\n",
    "    run_tests_cache(\n",
    "        db_names=['psql', 'sqlite', 'mongo', 'duck'], \n",
    "        params=[PSQL_PARAMS, SQLITE_PARAMS, MONGO_PARAMS3, DUCK_PARAMS], \n",
    "        sizes=sizes,\n",
    "        provider=prov, \n",
    "        cache=mem_cache,\n",
    "        queries=PK_QUERIES,\n",
    "        method='one_each',\n",
    "        index=True\n",
    "    )\n",
    "\n",
    "    print('\\n\\nRunning tests with Memcached on PK queries selecting all at once\\n')\n",
    "    run_tests_cache(\n",
    "        db_names=['psql', 'sqlite', 'mongo', 'duck'], \n",
    "        params=[PSQL_PARAMS, SQLITE_PARAMS, MONGO_PARAMS3, DUCK_PARAMS], \n",
    "        sizes=sizes,\n",
    "        provider=prov, \n",
    "        cache=mem_cache,\n",
    "        queries=PK_QUERIES,\n",
    "        method='at_once',\n",
    "        index=True\n",
    "    )\n",
    "\n",
    "\n",
    "    print('Running tests with custom cache on SELECT_ALL queries selecting one at the time\\n')\n",
    "    run_tests_cache(\n",
    "        db_names=['psql', 'sqlite', 'mongo', 'duck'], \n",
    "        params=_params, \n",
    "        sizes=sizes,\n",
    "        provider=prov, \n",
    "        cache=custom_cache,\n",
    "        queries=SELECT_ALL_QUERIES,\n",
    "        method='one_each',\n",
    "        index=True\n",
    "    )\n",
    "\n",
    "    print('Running tests with custom cache on SELECT_ALL queries selecting all at once\\n')\n",
    "    run_tests_cache(\n",
    "        db_names=['psql', 'sqlite', 'mongo', 'duck'], \n",
    "        params=_params, \n",
    "        sizes=sizes,\n",
    "        provider=prov, \n",
    "        cache=custom_cache,\n",
    "        queries=SELECT_ALL_QUERIES,\n",
    "        method='at_once',\n",
    "        index=True\n",
    "    )\n",
    "\n",
    "    print('\\n\\nRunning tests with Memcached on SELECT_ALL queries selecting one at the time\\n')\n",
    "    run_tests_cache(\n",
    "        db_names=['psql', 'sqlite', 'mongo', 'duck'], \n",
    "        params=_params, \n",
    "        sizes=sizes,\n",
    "        provider=prov, \n",
    "        cache=mem_cache,\n",
    "        queries=SELECT_ALL_QUERIES,\n",
    "        method='one_each',\n",
    "        index=True\n",
    "    )\n",
    "\n",
    "    print('\\n\\nRunning tests with Memcached on SELECT_ALL queries selecting all at once\\n')\n",
    "    run_tests_cache(\n",
    "        db_names=['psql', 'sqlite', 'mongo', 'duck'], \n",
    "        params=_params, \n",
    "        sizes=sizes,\n",
    "        provider=prov, \n",
    "        cache=mem_cache,\n",
    "        queries=SELECT_ALL_QUERIES,\n",
    "        method='at_once',\n",
    "        index=True\n",
    "    )\n"
   ]
  },
  {
   "cell_type": "markdown",
   "metadata": {},
   "source": [
    "#### **Update**"
   ]
  },
  {
   "cell_type": "code",
   "execution_count": null,
   "metadata": {},
   "outputs": [],
   "source": [
    "from modules.testing import run_tests_update, plot_test_update\n",
    "from modules.connection import SQLITE_PARAMS, MONGO_PARAMS, DUCK_PARAMS, PSQL_PARAMS\n",
    "from modules.data_generation import MasterProvider\n",
    "\n",
    "flag = True\n",
    "if flag:\n",
    "    _params = [PSQL_PARAMS, SQLITE_PARAMS, MONGO_PARAMS, DUCK_PARAMS]\n",
    "    prov = MasterProvider()\n",
    "    sizes = [100, 150]\n",
    "\n",
    "    print('Running tests for UPDATE operations\\n')\n",
    "    results_df = run_tests_update(\n",
    "        db_names=['psql', 'sqlite', 'mongo', 'duck'], \n",
    "        params=_params, \n",
    "        sizes=sizes,\n",
    "        provider=prov, \n",
    "    )\n",
    "\n",
    "    print(\"Results of UPDATE tests:\")\n",
    "    print(results_df)\n",
    "\n",
    "    fig = plot_test_update(results_df)\n",
    "    fig.show()\n"
   ]
  },
  {
   "cell_type": "markdown",
   "metadata": {},
   "source": [
    "## **Parte 4: Automatización de procesos (pipeline)**"
   ]
  },
  {
   "cell_type": "code",
   "execution_count": null,
   "metadata": {},
   "outputs": [],
   "source": [
    "from modules.testing_pipeline import AutoTester\n",
    "flag = True\n",
    "if flag:\n",
    "    test_sizes = {'huge': [50],\n",
    "          'big': [20],\n",
    "        'small': [10],\n",
    "        'ultra_small': [10, 20]}\n",
    "    \n",
    "    tester = AutoTester(test_sizes, iters=1)\n",
    "    tester.run_tests()"
   ]
  },
  {
   "cell_type": "markdown",
   "metadata": {},
   "source": [
    "## **Parte 5: mismo test, usando el pipeline de nuestra clase AutoTester pero con tamaños grandes**"
   ]
  },
  {
   "cell_type": "code",
   "execution_count": 1,
   "metadata": {},
   "outputs": [],
   "source": [
    "from modules.testing_pipeline import AutoTester\n",
    "flag = False\n",
    "if flag:\n",
    "    \n",
    "    sizes = {'huge': [5000, 10000, 20000, 50000, 100000, 400000, 1000000],\n",
    "        'big': [2000, 8000, 10000, 15000, 30000],\n",
    "        'small': [1000, 2000, 3000, 4000, 5000],\n",
    "        'ultra_small': [100, 300, 500, 1000, 2000]}\n",
    "    \n",
    "    tester = AutoTester(sizes, iters=3)\n",
    "    tester.run_tests()"
   ]
  },
  {
   "cell_type": "markdown",
   "metadata": {},
   "source": []
  }
 ],
 "metadata": {
  "kernelspec": {
   "display_name": "Python 3",
   "language": "python",
   "name": "python3"
  },
  "language_info": {
   "codemirror_mode": {
    "name": "ipython",
    "version": 3
   },
   "file_extension": ".py",
   "mimetype": "text/x-python",
   "name": "python",
   "nbconvert_exporter": "python",
   "pygments_lexer": "ipython3",
   "version": "3.12.6"
  }
 },
 "nbformat": 4,
 "nbformat_minor": 2
}
